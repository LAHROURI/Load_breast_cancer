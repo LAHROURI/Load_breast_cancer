{
  "cells": [
    {
      "cell_type": "markdown",
      "metadata": {
        "id": "view-in-github",
        "colab_type": "text"
      },
      "source": [
        "<a href=\"https://colab.research.google.com/github/LAHROURI/Load_breast_cancer/blob/main/Load_breast_cancer.ipynb\" target=\"_parent\"><img src=\"https://colab.research.google.com/assets/colab-badge.svg\" alt=\"Open In Colab\"/></a>"
      ]
    },
    {
      "cell_type": "markdown",
      "metadata": {
        "id": "_yT8cJTGCDbQ"
      },
      "source": [
        "#Dataset load_breast_cancer()\n",
        "\n",
        "La classification des tumeurs du sein à l'aide de différentes méthodes de Machine Learning.\n",
        "L'objectif est de prédire si une tumeur est bénigne ou maligne en utilisant l'ensemble de données `load_breast_cancer()` de scikit-learn.\n"
      ]
    },
    {
      "cell_type": "markdown",
      "source": [
        "**L'imporation des bibliothèques**"
      ],
      "metadata": {
        "id": "wk3_Efhvhq1j"
      }
    },
    {
      "cell_type": "code",
      "execution_count": null,
      "metadata": {
        "id": "Q4J7bVFA7zu0"
      },
      "outputs": [],
      "source": [
        "import pandas as pd\n",
        "from sklearn.datasets import load_breast_cancer\n",
        "from sklearn.model_selection import train_test_split\n",
        "from sklearn.ensemble import RandomForestClassifier\n",
        "from sklearn.metrics import accuracy_score\n",
        "from sklearn.preprocessing import LabelEncoder, StandardScaler\n",
        "import seaborn as sns\n",
        "import matplotlib.pyplot as plt\n",
        "from sklearn.metrics import confusion_matrix, classification_report\n",
        "from sklearn.naive_bayes import GaussianNB\n",
        "from sklearn.svm import SVC\n",
        "from sklearn.ensemble import AdaBoostClassifier\n",
        "from sklearn.tree import DecisionTreeClassifier\n",
        "from sklearn.linear_model import LogisticRegression\n",
        "from sklearn.neighbors import KNeighborsClassifier\n",
        "from sklearn.metrics import roc_curve, roc_auc_score\n",
        "import time\n",
        "from sklearn.model_selection import GridSearchCV"
      ]
    },
    {
      "cell_type": "markdown",
      "source": [
        "1. chargement les données\n",
        "2. création du DataFrame\n",
        "3. L'ajout de la colonne cible"
      ],
      "metadata": {
        "id": "u0QSUgXZjhQ3"
      }
    },
    {
      "cell_type": "code",
      "execution_count": null,
      "metadata": {
        "colab": {
          "base_uri": "https://localhost:8080/"
        },
        "id": "XDbQehGiCUY2",
        "outputId": "d42e999b-be8d-48e3-ac1a-f660d8eb1a04"
      },
      "outputs": [
        {
          "output_type": "stream",
          "name": "stdout",
          "text": [
            "   mean radius  mean texture  mean perimeter  mean area  mean smoothness  \\\n",
            "0        17.99         10.38          122.80     1001.0          0.11840   \n",
            "1        20.57         17.77          132.90     1326.0          0.08474   \n",
            "2        19.69         21.25          130.00     1203.0          0.10960   \n",
            "3        11.42         20.38           77.58      386.1          0.14250   \n",
            "4        20.29         14.34          135.10     1297.0          0.10030   \n",
            "\n",
            "   mean compactness  mean concavity  mean concave points  mean symmetry  \\\n",
            "0           0.27760          0.3001              0.14710         0.2419   \n",
            "1           0.07864          0.0869              0.07017         0.1812   \n",
            "2           0.15990          0.1974              0.12790         0.2069   \n",
            "3           0.28390          0.2414              0.10520         0.2597   \n",
            "4           0.13280          0.1980              0.10430         0.1809   \n",
            "\n",
            "   mean fractal dimension  ...  worst texture  worst perimeter  worst area  \\\n",
            "0                 0.07871  ...          17.33           184.60      2019.0   \n",
            "1                 0.05667  ...          23.41           158.80      1956.0   \n",
            "2                 0.05999  ...          25.53           152.50      1709.0   \n",
            "3                 0.09744  ...          26.50            98.87       567.7   \n",
            "4                 0.05883  ...          16.67           152.20      1575.0   \n",
            "\n",
            "   worst smoothness  worst compactness  worst concavity  worst concave points  \\\n",
            "0            0.1622             0.6656           0.7119                0.2654   \n",
            "1            0.1238             0.1866           0.2416                0.1860   \n",
            "2            0.1444             0.4245           0.4504                0.2430   \n",
            "3            0.2098             0.8663           0.6869                0.2575   \n",
            "4            0.1374             0.2050           0.4000                0.1625   \n",
            "\n",
            "   worst symmetry  worst fractal dimension  target  \n",
            "0          0.4601                  0.11890       0  \n",
            "1          0.2750                  0.08902       0  \n",
            "2          0.3613                  0.08758       0  \n",
            "3          0.6638                  0.17300       0  \n",
            "4          0.2364                  0.07678       0  \n",
            "\n",
            "[5 rows x 31 columns]\n"
          ]
        }
      ],
      "source": [
        "data = load_breast_cancer()\n",
        "df = pd.DataFrame(data.data, columns=data.feature_names)\n",
        "df['target'] = data.target\n",
        "print(df.head())"
      ]
    },
    {
      "cell_type": "markdown",
      "source": [
        "un résumé (`df.info()`) pour connaître les types de données et l'absence de valeurs manquantes."
      ],
      "metadata": {
        "id": "lAgZydfUj4PW"
      }
    },
    {
      "cell_type": "code",
      "execution_count": null,
      "metadata": {
        "colab": {
          "base_uri": "https://localhost:8080/"
        },
        "id": "TIoIWgq6C2yV",
        "outputId": "3a1919fd-d471-4d48-ce70-2ac2f5f3c81d"
      },
      "outputs": [
        {
          "output_type": "stream",
          "name": "stdout",
          "text": [
            "<class 'pandas.core.frame.DataFrame'>\n",
            "RangeIndex: 569 entries, 0 to 568\n",
            "Data columns (total 31 columns):\n",
            " #   Column                   Non-Null Count  Dtype  \n",
            "---  ------                   --------------  -----  \n",
            " 0   mean radius              569 non-null    float64\n",
            " 1   mean texture             569 non-null    float64\n",
            " 2   mean perimeter           569 non-null    float64\n",
            " 3   mean area                569 non-null    float64\n",
            " 4   mean smoothness          569 non-null    float64\n",
            " 5   mean compactness         569 non-null    float64\n",
            " 6   mean concavity           569 non-null    float64\n",
            " 7   mean concave points      569 non-null    float64\n",
            " 8   mean symmetry            569 non-null    float64\n",
            " 9   mean fractal dimension   569 non-null    float64\n",
            " 10  radius error             569 non-null    float64\n",
            " 11  texture error            569 non-null    float64\n",
            " 12  perimeter error          569 non-null    float64\n",
            " 13  area error               569 non-null    float64\n",
            " 14  smoothness error         569 non-null    float64\n",
            " 15  compactness error        569 non-null    float64\n",
            " 16  concavity error          569 non-null    float64\n",
            " 17  concave points error     569 non-null    float64\n",
            " 18  symmetry error           569 non-null    float64\n",
            " 19  fractal dimension error  569 non-null    float64\n",
            " 20  worst radius             569 non-null    float64\n",
            " 21  worst texture            569 non-null    float64\n",
            " 22  worst perimeter          569 non-null    float64\n",
            " 23  worst area               569 non-null    float64\n",
            " 24  worst smoothness         569 non-null    float64\n",
            " 25  worst compactness        569 non-null    float64\n",
            " 26  worst concavity          569 non-null    float64\n",
            " 27  worst concave points     569 non-null    float64\n",
            " 28  worst symmetry           569 non-null    float64\n",
            " 29  worst fractal dimension  569 non-null    float64\n",
            " 30  target                   569 non-null    int64  \n",
            "dtypes: float64(30), int64(1)\n",
            "memory usage: 137.9 KB\n"
          ]
        }
      ],
      "source": [
        "df.info()"
      ]
    },
    {
      "cell_type": "markdown",
      "source": [
        "# Prétraitement"
      ],
      "metadata": {
        "id": "GArseh55xYPh"
      }
    },
    {
      "cell_type": "markdown",
      "metadata": {
        "id": "YSB5wjttGIt9"
      },
      "source": [
        "Remplir les valeurs manquants par la moyenne parce que touts les enregistrements sont des valeurs numériques"
      ]
    },
    {
      "cell_type": "code",
      "execution_count": null,
      "metadata": {
        "id": "AZAVnzuWF_Ng"
      },
      "outputs": [],
      "source": [
        "#remplir les valeurs manquants\n",
        "df.fillna(df.mean(), inplace=True)"
      ]
    },
    {
      "cell_type": "markdown",
      "source": [
        "Séparation X et y"
      ],
      "metadata": {
        "id": "87RwKczHkEXF"
      }
    },
    {
      "cell_type": "code",
      "source": [
        "X = df.drop('target', axis=1)\n",
        "y = df['target']"
      ],
      "metadata": {
        "id": "Z4jizVBdzHI_"
      },
      "execution_count": null,
      "outputs": []
    },
    {
      "cell_type": "markdown",
      "source": [
        "Encodage de la cible"
      ],
      "metadata": {
        "id": "yFbzm2zUkNE5"
      }
    },
    {
      "cell_type": "code",
      "source": [
        "le = LabelEncoder()\n",
        "y = le.fit_transform(y)"
      ],
      "metadata": {
        "id": "-cuOMiL0yzD1"
      },
      "execution_count": null,
      "outputs": []
    },
    {
      "cell_type": "markdown",
      "source": [
        "Mise à l'échelle des caractéristiques"
      ],
      "metadata": {
        "id": "Ri1qfIb0kdUz"
      }
    },
    {
      "cell_type": "code",
      "execution_count": null,
      "metadata": {
        "id": "loWfTViOGlov"
      },
      "outputs": [],
      "source": [
        "scaler = StandardScaler()\n",
        "X = scaler.fit_transform(X)"
      ]
    },
    {
      "cell_type": "markdown",
      "source": [
        "Division des données."
      ],
      "metadata": {
        "id": "maYbjtyektkS"
      }
    },
    {
      "cell_type": "code",
      "execution_count": null,
      "metadata": {
        "id": "DwVo-nJQG3fK"
      },
      "outputs": [],
      "source": [
        "X_train, X_test, y_train, y_test = train_test_split(X, y, test_size=0.2, random_state=42)"
      ]
    },
    {
      "cell_type": "markdown",
      "source": [
        "# Traitement"
      ],
      "metadata": {
        "id": "edjanstd0nY5"
      }
    },
    {
      "cell_type": "markdown",
      "source": [
        "**Random Forest**"
      ],
      "metadata": {
        "id": "vqNtlrVk0q_m"
      }
    },
    {
      "cell_type": "code",
      "execution_count": null,
      "metadata": {
        "colab": {
          "base_uri": "https://localhost:8080/",
          "height": 81
        },
        "id": "8gDdZr_dG87k",
        "outputId": "2c805625-270b-4a13-80a7-5139e25d5ffc"
      },
      "outputs": [
        {
          "output_type": "execute_result",
          "data": {
            "text/plain": [
              "RandomForestClassifier(random_state=42)"
            ],
            "text/html": [
              "<style>#sk-container-id-1 {\n",
              "  /* Definition of color scheme common for light and dark mode */\n",
              "  --sklearn-color-text: #000;\n",
              "  --sklearn-color-text-muted: #666;\n",
              "  --sklearn-color-line: gray;\n",
              "  /* Definition of color scheme for unfitted estimators */\n",
              "  --sklearn-color-unfitted-level-0: #fff5e6;\n",
              "  --sklearn-color-unfitted-level-1: #f6e4d2;\n",
              "  --sklearn-color-unfitted-level-2: #ffe0b3;\n",
              "  --sklearn-color-unfitted-level-3: chocolate;\n",
              "  /* Definition of color scheme for fitted estimators */\n",
              "  --sklearn-color-fitted-level-0: #f0f8ff;\n",
              "  --sklearn-color-fitted-level-1: #d4ebff;\n",
              "  --sklearn-color-fitted-level-2: #b3dbfd;\n",
              "  --sklearn-color-fitted-level-3: cornflowerblue;\n",
              "\n",
              "  /* Specific color for light theme */\n",
              "  --sklearn-color-text-on-default-background: var(--sg-text-color, var(--theme-code-foreground, var(--jp-content-font-color1, black)));\n",
              "  --sklearn-color-background: var(--sg-background-color, var(--theme-background, var(--jp-layout-color0, white)));\n",
              "  --sklearn-color-border-box: var(--sg-text-color, var(--theme-code-foreground, var(--jp-content-font-color1, black)));\n",
              "  --sklearn-color-icon: #696969;\n",
              "\n",
              "  @media (prefers-color-scheme: dark) {\n",
              "    /* Redefinition of color scheme for dark theme */\n",
              "    --sklearn-color-text-on-default-background: var(--sg-text-color, var(--theme-code-foreground, var(--jp-content-font-color1, white)));\n",
              "    --sklearn-color-background: var(--sg-background-color, var(--theme-background, var(--jp-layout-color0, #111)));\n",
              "    --sklearn-color-border-box: var(--sg-text-color, var(--theme-code-foreground, var(--jp-content-font-color1, white)));\n",
              "    --sklearn-color-icon: #878787;\n",
              "  }\n",
              "}\n",
              "\n",
              "#sk-container-id-1 {\n",
              "  color: var(--sklearn-color-text);\n",
              "}\n",
              "\n",
              "#sk-container-id-1 pre {\n",
              "  padding: 0;\n",
              "}\n",
              "\n",
              "#sk-container-id-1 input.sk-hidden--visually {\n",
              "  border: 0;\n",
              "  clip: rect(1px 1px 1px 1px);\n",
              "  clip: rect(1px, 1px, 1px, 1px);\n",
              "  height: 1px;\n",
              "  margin: -1px;\n",
              "  overflow: hidden;\n",
              "  padding: 0;\n",
              "  position: absolute;\n",
              "  width: 1px;\n",
              "}\n",
              "\n",
              "#sk-container-id-1 div.sk-dashed-wrapped {\n",
              "  border: 1px dashed var(--sklearn-color-line);\n",
              "  margin: 0 0.4em 0.5em 0.4em;\n",
              "  box-sizing: border-box;\n",
              "  padding-bottom: 0.4em;\n",
              "  background-color: var(--sklearn-color-background);\n",
              "}\n",
              "\n",
              "#sk-container-id-1 div.sk-container {\n",
              "  /* jupyter's `normalize.less` sets `[hidden] { display: none; }`\n",
              "     but bootstrap.min.css set `[hidden] { display: none !important; }`\n",
              "     so we also need the `!important` here to be able to override the\n",
              "     default hidden behavior on the sphinx rendered scikit-learn.org.\n",
              "     See: https://github.com/scikit-learn/scikit-learn/issues/21755 */\n",
              "  display: inline-block !important;\n",
              "  position: relative;\n",
              "}\n",
              "\n",
              "#sk-container-id-1 div.sk-text-repr-fallback {\n",
              "  display: none;\n",
              "}\n",
              "\n",
              "div.sk-parallel-item,\n",
              "div.sk-serial,\n",
              "div.sk-item {\n",
              "  /* draw centered vertical line to link estimators */\n",
              "  background-image: linear-gradient(var(--sklearn-color-text-on-default-background), var(--sklearn-color-text-on-default-background));\n",
              "  background-size: 2px 100%;\n",
              "  background-repeat: no-repeat;\n",
              "  background-position: center center;\n",
              "}\n",
              "\n",
              "/* Parallel-specific style estimator block */\n",
              "\n",
              "#sk-container-id-1 div.sk-parallel-item::after {\n",
              "  content: \"\";\n",
              "  width: 100%;\n",
              "  border-bottom: 2px solid var(--sklearn-color-text-on-default-background);\n",
              "  flex-grow: 1;\n",
              "}\n",
              "\n",
              "#sk-container-id-1 div.sk-parallel {\n",
              "  display: flex;\n",
              "  align-items: stretch;\n",
              "  justify-content: center;\n",
              "  background-color: var(--sklearn-color-background);\n",
              "  position: relative;\n",
              "}\n",
              "\n",
              "#sk-container-id-1 div.sk-parallel-item {\n",
              "  display: flex;\n",
              "  flex-direction: column;\n",
              "}\n",
              "\n",
              "#sk-container-id-1 div.sk-parallel-item:first-child::after {\n",
              "  align-self: flex-end;\n",
              "  width: 50%;\n",
              "}\n",
              "\n",
              "#sk-container-id-1 div.sk-parallel-item:last-child::after {\n",
              "  align-self: flex-start;\n",
              "  width: 50%;\n",
              "}\n",
              "\n",
              "#sk-container-id-1 div.sk-parallel-item:only-child::after {\n",
              "  width: 0;\n",
              "}\n",
              "\n",
              "/* Serial-specific style estimator block */\n",
              "\n",
              "#sk-container-id-1 div.sk-serial {\n",
              "  display: flex;\n",
              "  flex-direction: column;\n",
              "  align-items: center;\n",
              "  background-color: var(--sklearn-color-background);\n",
              "  padding-right: 1em;\n",
              "  padding-left: 1em;\n",
              "}\n",
              "\n",
              "\n",
              "/* Toggleable style: style used for estimator/Pipeline/ColumnTransformer box that is\n",
              "clickable and can be expanded/collapsed.\n",
              "- Pipeline and ColumnTransformer use this feature and define the default style\n",
              "- Estimators will overwrite some part of the style using the `sk-estimator` class\n",
              "*/\n",
              "\n",
              "/* Pipeline and ColumnTransformer style (default) */\n",
              "\n",
              "#sk-container-id-1 div.sk-toggleable {\n",
              "  /* Default theme specific background. It is overwritten whether we have a\n",
              "  specific estimator or a Pipeline/ColumnTransformer */\n",
              "  background-color: var(--sklearn-color-background);\n",
              "}\n",
              "\n",
              "/* Toggleable label */\n",
              "#sk-container-id-1 label.sk-toggleable__label {\n",
              "  cursor: pointer;\n",
              "  display: flex;\n",
              "  width: 100%;\n",
              "  margin-bottom: 0;\n",
              "  padding: 0.5em;\n",
              "  box-sizing: border-box;\n",
              "  text-align: center;\n",
              "  align-items: start;\n",
              "  justify-content: space-between;\n",
              "  gap: 0.5em;\n",
              "}\n",
              "\n",
              "#sk-container-id-1 label.sk-toggleable__label .caption {\n",
              "  font-size: 0.6rem;\n",
              "  font-weight: lighter;\n",
              "  color: var(--sklearn-color-text-muted);\n",
              "}\n",
              "\n",
              "#sk-container-id-1 label.sk-toggleable__label-arrow:before {\n",
              "  /* Arrow on the left of the label */\n",
              "  content: \"▸\";\n",
              "  float: left;\n",
              "  margin-right: 0.25em;\n",
              "  color: var(--sklearn-color-icon);\n",
              "}\n",
              "\n",
              "#sk-container-id-1 label.sk-toggleable__label-arrow:hover:before {\n",
              "  color: var(--sklearn-color-text);\n",
              "}\n",
              "\n",
              "/* Toggleable content - dropdown */\n",
              "\n",
              "#sk-container-id-1 div.sk-toggleable__content {\n",
              "  max-height: 0;\n",
              "  max-width: 0;\n",
              "  overflow: hidden;\n",
              "  text-align: left;\n",
              "  /* unfitted */\n",
              "  background-color: var(--sklearn-color-unfitted-level-0);\n",
              "}\n",
              "\n",
              "#sk-container-id-1 div.sk-toggleable__content.fitted {\n",
              "  /* fitted */\n",
              "  background-color: var(--sklearn-color-fitted-level-0);\n",
              "}\n",
              "\n",
              "#sk-container-id-1 div.sk-toggleable__content pre {\n",
              "  margin: 0.2em;\n",
              "  border-radius: 0.25em;\n",
              "  color: var(--sklearn-color-text);\n",
              "  /* unfitted */\n",
              "  background-color: var(--sklearn-color-unfitted-level-0);\n",
              "}\n",
              "\n",
              "#sk-container-id-1 div.sk-toggleable__content.fitted pre {\n",
              "  /* unfitted */\n",
              "  background-color: var(--sklearn-color-fitted-level-0);\n",
              "}\n",
              "\n",
              "#sk-container-id-1 input.sk-toggleable__control:checked~div.sk-toggleable__content {\n",
              "  /* Expand drop-down */\n",
              "  max-height: 200px;\n",
              "  max-width: 100%;\n",
              "  overflow: auto;\n",
              "}\n",
              "\n",
              "#sk-container-id-1 input.sk-toggleable__control:checked~label.sk-toggleable__label-arrow:before {\n",
              "  content: \"▾\";\n",
              "}\n",
              "\n",
              "/* Pipeline/ColumnTransformer-specific style */\n",
              "\n",
              "#sk-container-id-1 div.sk-label input.sk-toggleable__control:checked~label.sk-toggleable__label {\n",
              "  color: var(--sklearn-color-text);\n",
              "  background-color: var(--sklearn-color-unfitted-level-2);\n",
              "}\n",
              "\n",
              "#sk-container-id-1 div.sk-label.fitted input.sk-toggleable__control:checked~label.sk-toggleable__label {\n",
              "  background-color: var(--sklearn-color-fitted-level-2);\n",
              "}\n",
              "\n",
              "/* Estimator-specific style */\n",
              "\n",
              "/* Colorize estimator box */\n",
              "#sk-container-id-1 div.sk-estimator input.sk-toggleable__control:checked~label.sk-toggleable__label {\n",
              "  /* unfitted */\n",
              "  background-color: var(--sklearn-color-unfitted-level-2);\n",
              "}\n",
              "\n",
              "#sk-container-id-1 div.sk-estimator.fitted input.sk-toggleable__control:checked~label.sk-toggleable__label {\n",
              "  /* fitted */\n",
              "  background-color: var(--sklearn-color-fitted-level-2);\n",
              "}\n",
              "\n",
              "#sk-container-id-1 div.sk-label label.sk-toggleable__label,\n",
              "#sk-container-id-1 div.sk-label label {\n",
              "  /* The background is the default theme color */\n",
              "  color: var(--sklearn-color-text-on-default-background);\n",
              "}\n",
              "\n",
              "/* On hover, darken the color of the background */\n",
              "#sk-container-id-1 div.sk-label:hover label.sk-toggleable__label {\n",
              "  color: var(--sklearn-color-text);\n",
              "  background-color: var(--sklearn-color-unfitted-level-2);\n",
              "}\n",
              "\n",
              "/* Label box, darken color on hover, fitted */\n",
              "#sk-container-id-1 div.sk-label.fitted:hover label.sk-toggleable__label.fitted {\n",
              "  color: var(--sklearn-color-text);\n",
              "  background-color: var(--sklearn-color-fitted-level-2);\n",
              "}\n",
              "\n",
              "/* Estimator label */\n",
              "\n",
              "#sk-container-id-1 div.sk-label label {\n",
              "  font-family: monospace;\n",
              "  font-weight: bold;\n",
              "  display: inline-block;\n",
              "  line-height: 1.2em;\n",
              "}\n",
              "\n",
              "#sk-container-id-1 div.sk-label-container {\n",
              "  text-align: center;\n",
              "}\n",
              "\n",
              "/* Estimator-specific */\n",
              "#sk-container-id-1 div.sk-estimator {\n",
              "  font-family: monospace;\n",
              "  border: 1px dotted var(--sklearn-color-border-box);\n",
              "  border-radius: 0.25em;\n",
              "  box-sizing: border-box;\n",
              "  margin-bottom: 0.5em;\n",
              "  /* unfitted */\n",
              "  background-color: var(--sklearn-color-unfitted-level-0);\n",
              "}\n",
              "\n",
              "#sk-container-id-1 div.sk-estimator.fitted {\n",
              "  /* fitted */\n",
              "  background-color: var(--sklearn-color-fitted-level-0);\n",
              "}\n",
              "\n",
              "/* on hover */\n",
              "#sk-container-id-1 div.sk-estimator:hover {\n",
              "  /* unfitted */\n",
              "  background-color: var(--sklearn-color-unfitted-level-2);\n",
              "}\n",
              "\n",
              "#sk-container-id-1 div.sk-estimator.fitted:hover {\n",
              "  /* fitted */\n",
              "  background-color: var(--sklearn-color-fitted-level-2);\n",
              "}\n",
              "\n",
              "/* Specification for estimator info (e.g. \"i\" and \"?\") */\n",
              "\n",
              "/* Common style for \"i\" and \"?\" */\n",
              "\n",
              ".sk-estimator-doc-link,\n",
              "a:link.sk-estimator-doc-link,\n",
              "a:visited.sk-estimator-doc-link {\n",
              "  float: right;\n",
              "  font-size: smaller;\n",
              "  line-height: 1em;\n",
              "  font-family: monospace;\n",
              "  background-color: var(--sklearn-color-background);\n",
              "  border-radius: 1em;\n",
              "  height: 1em;\n",
              "  width: 1em;\n",
              "  text-decoration: none !important;\n",
              "  margin-left: 0.5em;\n",
              "  text-align: center;\n",
              "  /* unfitted */\n",
              "  border: var(--sklearn-color-unfitted-level-1) 1pt solid;\n",
              "  color: var(--sklearn-color-unfitted-level-1);\n",
              "}\n",
              "\n",
              ".sk-estimator-doc-link.fitted,\n",
              "a:link.sk-estimator-doc-link.fitted,\n",
              "a:visited.sk-estimator-doc-link.fitted {\n",
              "  /* fitted */\n",
              "  border: var(--sklearn-color-fitted-level-1) 1pt solid;\n",
              "  color: var(--sklearn-color-fitted-level-1);\n",
              "}\n",
              "\n",
              "/* On hover */\n",
              "div.sk-estimator:hover .sk-estimator-doc-link:hover,\n",
              ".sk-estimator-doc-link:hover,\n",
              "div.sk-label-container:hover .sk-estimator-doc-link:hover,\n",
              ".sk-estimator-doc-link:hover {\n",
              "  /* unfitted */\n",
              "  background-color: var(--sklearn-color-unfitted-level-3);\n",
              "  color: var(--sklearn-color-background);\n",
              "  text-decoration: none;\n",
              "}\n",
              "\n",
              "div.sk-estimator.fitted:hover .sk-estimator-doc-link.fitted:hover,\n",
              ".sk-estimator-doc-link.fitted:hover,\n",
              "div.sk-label-container:hover .sk-estimator-doc-link.fitted:hover,\n",
              ".sk-estimator-doc-link.fitted:hover {\n",
              "  /* fitted */\n",
              "  background-color: var(--sklearn-color-fitted-level-3);\n",
              "  color: var(--sklearn-color-background);\n",
              "  text-decoration: none;\n",
              "}\n",
              "\n",
              "/* Span, style for the box shown on hovering the info icon */\n",
              ".sk-estimator-doc-link span {\n",
              "  display: none;\n",
              "  z-index: 9999;\n",
              "  position: relative;\n",
              "  font-weight: normal;\n",
              "  right: .2ex;\n",
              "  padding: .5ex;\n",
              "  margin: .5ex;\n",
              "  width: min-content;\n",
              "  min-width: 20ex;\n",
              "  max-width: 50ex;\n",
              "  color: var(--sklearn-color-text);\n",
              "  box-shadow: 2pt 2pt 4pt #999;\n",
              "  /* unfitted */\n",
              "  background: var(--sklearn-color-unfitted-level-0);\n",
              "  border: .5pt solid var(--sklearn-color-unfitted-level-3);\n",
              "}\n",
              "\n",
              ".sk-estimator-doc-link.fitted span {\n",
              "  /* fitted */\n",
              "  background: var(--sklearn-color-fitted-level-0);\n",
              "  border: var(--sklearn-color-fitted-level-3);\n",
              "}\n",
              "\n",
              ".sk-estimator-doc-link:hover span {\n",
              "  display: block;\n",
              "}\n",
              "\n",
              "/* \"?\"-specific style due to the `<a>` HTML tag */\n",
              "\n",
              "#sk-container-id-1 a.estimator_doc_link {\n",
              "  float: right;\n",
              "  font-size: 1rem;\n",
              "  line-height: 1em;\n",
              "  font-family: monospace;\n",
              "  background-color: var(--sklearn-color-background);\n",
              "  border-radius: 1rem;\n",
              "  height: 1rem;\n",
              "  width: 1rem;\n",
              "  text-decoration: none;\n",
              "  /* unfitted */\n",
              "  color: var(--sklearn-color-unfitted-level-1);\n",
              "  border: var(--sklearn-color-unfitted-level-1) 1pt solid;\n",
              "}\n",
              "\n",
              "#sk-container-id-1 a.estimator_doc_link.fitted {\n",
              "  /* fitted */\n",
              "  border: var(--sklearn-color-fitted-level-1) 1pt solid;\n",
              "  color: var(--sklearn-color-fitted-level-1);\n",
              "}\n",
              "\n",
              "/* On hover */\n",
              "#sk-container-id-1 a.estimator_doc_link:hover {\n",
              "  /* unfitted */\n",
              "  background-color: var(--sklearn-color-unfitted-level-3);\n",
              "  color: var(--sklearn-color-background);\n",
              "  text-decoration: none;\n",
              "}\n",
              "\n",
              "#sk-container-id-1 a.estimator_doc_link.fitted:hover {\n",
              "  /* fitted */\n",
              "  background-color: var(--sklearn-color-fitted-level-3);\n",
              "}\n",
              "</style><div id=\"sk-container-id-1\" class=\"sk-top-container\"><div class=\"sk-text-repr-fallback\"><pre>RandomForestClassifier(random_state=42)</pre><b>In a Jupyter environment, please rerun this cell to show the HTML representation or trust the notebook. <br />On GitHub, the HTML representation is unable to render, please try loading this page with nbviewer.org.</b></div><div class=\"sk-container\" hidden><div class=\"sk-item\"><div class=\"sk-estimator fitted sk-toggleable\"><input class=\"sk-toggleable__control sk-hidden--visually\" id=\"sk-estimator-id-1\" type=\"checkbox\" checked><label for=\"sk-estimator-id-1\" class=\"sk-toggleable__label fitted sk-toggleable__label-arrow\"><div><div>RandomForestClassifier</div></div><div><a class=\"sk-estimator-doc-link fitted\" rel=\"noreferrer\" target=\"_blank\" href=\"https://scikit-learn.org/1.6/modules/generated/sklearn.ensemble.RandomForestClassifier.html\">?<span>Documentation for RandomForestClassifier</span></a><span class=\"sk-estimator-doc-link fitted\">i<span>Fitted</span></span></div></label><div class=\"sk-toggleable__content fitted\"><pre>RandomForestClassifier(random_state=42)</pre></div> </div></div></div></div>"
            ]
          },
          "metadata": {},
          "execution_count": 9
        }
      ],
      "source": [
        "from sklearn.ensemble import RandomForestClassifier\n",
        "clf = RandomForestClassifier(n_estimators=100, random_state=42)\n",
        "clf.fit(X_train, y_train)"
      ]
    },
    {
      "cell_type": "markdown",
      "source": [
        "Model Evaluation - Random Forest"
      ],
      "metadata": {
        "id": "vB_OKDhVk45H"
      }
    },
    {
      "cell_type": "code",
      "execution_count": null,
      "metadata": {
        "colab": {
          "base_uri": "https://localhost:8080/"
        },
        "id": "fAucYn31HEGy",
        "outputId": "167a4307-9525-4db5-828f-f17dbd40a016"
      },
      "outputs": [
        {
          "output_type": "stream",
          "name": "stdout",
          "text": [
            "Random Forest Accuracy: 0.9649122807017544\n"
          ]
        }
      ],
      "source": [
        "from sklearn.metrics import accuracy_score\n",
        "y_pred = clf.predict(X_test)\n",
        "accuracy = accuracy_score(y_test, y_pred)\n",
        "print(\"Random Forest Accuracy:\", accuracy)"
      ]
    },
    {
      "cell_type": "markdown",
      "source": [
        "Model Prediction - Random Forest"
      ],
      "metadata": {
        "id": "jUnl6KHLk7Tm"
      }
    },
    {
      "cell_type": "code",
      "execution_count": null,
      "metadata": {
        "colab": {
          "base_uri": "https://localhost:8080/",
          "height": 472
        },
        "id": "opy2Ia41HLOt",
        "outputId": "97e990c3-044b-4c8b-86b7-62434a3b0fb5"
      },
      "outputs": [
        {
          "output_type": "display_data",
          "data": {
            "text/plain": [
              "<Figure size 640x480 with 2 Axes>"
            ],
            "image/png": "[encoded data removed]"
          },
          "metadata": {}
        }
      ],
      "source": [
        "import seaborn as sns\n",
        "import matplotlib.pyplot as plt\n",
        "from sklearn.metrics import confusion_matrix\n",
        "cm = confusion_matrix(y_test, y_pred)\n",
        "sns.heatmap(cm, annot=True, fmt='d')\n",
        "plt.title(\"Confusion Matrix for Random Forest\")\n",
        "plt.xlabel(\"Predicted Labels\")\n",
        "plt.ylabel(\"True Labels\")\n",
        "plt.show()"
      ]
    },
    {
      "cell_type": "markdown",
      "source": [
        "Classification report - Random Forest"
      ],
      "metadata": {
        "id": "qr7a2RxGlBfJ"
      }
    },
    {
      "cell_type": "code",
      "source": [
        "classification_reports = {}\n",
        "classification_reports['Random Forest'] = classification_report(y_test, y_pred)\n",
        "print(classification_report(y_test, y_pred))"
      ],
      "metadata": {
        "colab": {
          "base_uri": "https://localhost:8080/"
        },
        "id": "oN_OsI4f3Oa4",
        "outputId": "ff224347-8f01-41ec-e45e-6ee317cd3ced"
      },
      "execution_count": null,
      "outputs": [
        {
          "output_type": "stream",
          "name": "stdout",
          "text": [
            "              precision    recall  f1-score   support\n",
            "\n",
            "           0       0.98      0.93      0.95        43\n",
            "           1       0.96      0.99      0.97        71\n",
            "\n",
            "    accuracy                           0.96       114\n",
            "   macro avg       0.97      0.96      0.96       114\n",
            "weighted avg       0.97      0.96      0.96       114\n",
            "\n"
          ]
        }
      ]
    },
    {
      "cell_type": "markdown",
      "source": [
        "**Naïve Bayes**"
      ],
      "metadata": {
        "id": "dOOZdLXr0yHH"
      }
    },
    {
      "cell_type": "markdown",
      "source": [
        "Model Evaluation - Naïve Bayes"
      ],
      "metadata": {
        "id": "rDTAwanKlWJ6"
      }
    },
    {
      "cell_type": "code",
      "execution_count": null,
      "metadata": {
        "colab": {
          "base_uri": "https://localhost:8080/"
        },
        "id": "A2wmCrCVHcJW",
        "outputId": "4aa020f1-69a1-464f-b4e6-a548b7799086"
      },
      "outputs": [
        {
          "output_type": "stream",
          "name": "stdout",
          "text": [
            "Naïve Bayes Accuracy: 0.9649122807017544\n"
          ]
        }
      ],
      "source": [
        "from sklearn.naive_bayes import GaussianNB\n",
        "clf = GaussianNB()\n",
        "clf.fit(X_train, y_train)\n",
        "y_pred = clf.predict(X_test)\n",
        "accuracy = accuracy_score(y_test, y_pred)\n",
        "print(\"Naïve Bayes Accuracy:\", accuracy)"
      ]
    },
    {
      "cell_type": "markdown",
      "source": [
        "Model prediction - Naïve Bayes"
      ],
      "metadata": {
        "id": "oTlEkUZ-lLWH"
      }
    },
    {
      "cell_type": "code",
      "execution_count": null,
      "metadata": {
        "colab": {
          "base_uri": "https://localhost:8080/",
          "height": 452
        },
        "id": "zrFTChy4Hma8",
        "outputId": "c9781213-5fe1-47f0-b384-7ca50d43da9d"
      },
      "outputs": [
        {
          "output_type": "display_data",
          "data": {
            "text/plain": [
              "<Figure size 640x480 with 2 Axes>"
            ],
            "image/png": "[encoded data removed]"
          },
          "metadata": {}
        }
      ],
      "source": [
        "cm = confusion_matrix(y_test, y_pred)\n",
        "sns.heatmap(cm, annot=True, fmt='d')\n",
        "plt.title(\"Confusion Matrix for Naïve Bayes\")\n",
        "plt.show()"
      ]
    },
    {
      "cell_type": "markdown",
      "source": [
        "Classification report - Random Forest"
      ],
      "metadata": {
        "id": "_9SGF4T1mEvV"
      }
    },
    {
      "cell_type": "code",
      "source": [
        "classification_reports['Random Forest'] = classification_report(y_test, y_pred)\n",
        "print(classification_report(y_test, y_pred))"
      ],
      "metadata": {
        "colab": {
          "base_uri": "https://localhost:8080/"
        },
        "id": "FNKrsY4ImKcZ",
        "outputId": "e7e5c166-773f-4db5-a0c2-adaa3f80868b"
      },
      "execution_count": null,
      "outputs": [
        {
          "output_type": "stream",
          "name": "stdout",
          "text": [
            "              precision    recall  f1-score   support\n",
            "\n",
            "           0       0.98      0.93      0.95        43\n",
            "           1       0.96      0.99      0.97        71\n",
            "\n",
            "    accuracy                           0.96       114\n",
            "   macro avg       0.97      0.96      0.96       114\n",
            "weighted avg       0.97      0.96      0.96       114\n",
            "\n"
          ]
        }
      ]
    },
    {
      "cell_type": "markdown",
      "source": [
        "**SVM Classifier**"
      ],
      "metadata": {
        "id": "xrx30Fta058B"
      }
    },
    {
      "cell_type": "markdown",
      "source": [
        "Model Evaluation - SVM"
      ],
      "metadata": {
        "id": "FkFAEqNGld_N"
      }
    },
    {
      "cell_type": "code",
      "execution_count": null,
      "metadata": {
        "colab": {
          "base_uri": "https://localhost:8080/"
        },
        "id": "xLJZZlqeH1Og",
        "outputId": "fb35bbf2-0812-4664-d01f-85b87106116e"
      },
      "outputs": [
        {
          "output_type": "stream",
          "name": "stdout",
          "text": [
            "SVM Accuracy: 0.956140350877193\n"
          ]
        }
      ],
      "source": [
        "from sklearn.svm import SVC\n",
        "clf = SVC(kernel='linear')\n",
        "clf.fit(X_train, y_train)\n",
        "y_pred = clf.predict(X_test)\n",
        "accuracy = accuracy_score(y_test, y_pred)\n",
        "print(\"SVM Accuracy:\", accuracy)"
      ]
    },
    {
      "cell_type": "markdown",
      "source": [
        "The Confusion Matrix Visualization for SVM"
      ],
      "metadata": {
        "id": "pqXsSjfPlmE7"
      }
    },
    {
      "cell_type": "code",
      "execution_count": null,
      "metadata": {
        "colab": {
          "base_uri": "https://localhost:8080/",
          "height": 452
        },
        "id": "sthMCQhLH5vq",
        "outputId": "b22c63fd-3a5f-405a-adb8-dd638dcdc96b"
      },
      "outputs": [
        {
          "output_type": "display_data",
          "data": {
            "text/plain": [
              "<Figure size 640x480 with 2 Axes>"
            ],
            "image/png": "[encoded data removed]"
          },
          "metadata": {}
        }
      ],
      "source": [
        "cm = confusion_matrix(y_test, y_pred)\n",
        "sns.heatmap(cm, annot=True, fmt='d')\n",
        "plt.title(\"Confusion Matrix for SVM\")\n",
        "plt.show()"
      ]
    },
    {
      "cell_type": "markdown",
      "source": [
        "Classification report - SVM"
      ],
      "metadata": {
        "id": "LQ2s1BnMmTk4"
      }
    },
    {
      "cell_type": "code",
      "source": [
        "classification_reports['SVM'] = classification_report(y_test, y_pred)\n",
        "print(classification_report(y_test, y_pred))"
      ],
      "metadata": {
        "colab": {
          "base_uri": "https://localhost:8080/"
        },
        "id": "_MNXk3N9mWoy",
        "outputId": "fefb2969-9a9a-44fc-fc79-83891e6adb3e"
      },
      "execution_count": null,
      "outputs": [
        {
          "output_type": "stream",
          "name": "stdout",
          "text": [
            "              precision    recall  f1-score   support\n",
            "\n",
            "           0       0.93      0.95      0.94        43\n",
            "           1       0.97      0.96      0.96        71\n",
            "\n",
            "    accuracy                           0.96       114\n",
            "   macro avg       0.95      0.96      0.95       114\n",
            "weighted avg       0.96      0.96      0.96       114\n",
            "\n"
          ]
        }
      ]
    },
    {
      "cell_type": "markdown",
      "source": [
        "**AdaBoost Classifier**"
      ],
      "metadata": {
        "id": "4yBHrnFZ1BBA"
      }
    },
    {
      "cell_type": "markdown",
      "source": [
        "Model Evaluation - AdaBoost"
      ],
      "metadata": {
        "id": "IPzfNOHPm1Ab"
      }
    },
    {
      "cell_type": "code",
      "execution_count": null,
      "metadata": {
        "colab": {
          "base_uri": "https://localhost:8080/"
        },
        "id": "9sRjVgSYH-9x",
        "outputId": "25f1feaf-2fae-412b-b943-8daae6549eea"
      },
      "outputs": [
        {
          "output_type": "stream",
          "name": "stdout",
          "text": [
            "AdaBoost Accuracy: 0.9736842105263158\n"
          ]
        }
      ],
      "source": [
        "from sklearn.ensemble import AdaBoostClassifier\n",
        "clf = AdaBoostClassifier(n_estimators=100)\n",
        "clf.fit(X_train, y_train)\n",
        "y_pred = clf.predict(X_test)\n",
        "accuracy = accuracy_score(y_test, y_pred)\n",
        "print(\"AdaBoost Accuracy:\", accuracy)"
      ]
    },
    {
      "cell_type": "markdown",
      "source": [
        "The Confusion Matrix Visualization for AdaBoost"
      ],
      "metadata": {
        "id": "o3lVXcQ0m4H-"
      }
    },
    {
      "cell_type": "code",
      "execution_count": null,
      "metadata": {
        "colab": {
          "base_uri": "https://localhost:8080/",
          "height": 452
        },
        "id": "mDOsmYY8IQqR",
        "outputId": "cf68927e-1b94-4c49-e285-4e83e3f1187e"
      },
      "outputs": [
        {
          "output_type": "display_data",
          "data": {
            "text/plain": [
              "<Figure size 640x480 with 2 Axes>"
            ],
            "image/png": "[encoded data removed]"
          },
          "metadata": {}
        }
      ],
      "source": [
        "cmd = confusion_matrix(y_test, y_pred)\n",
        "sns.heatmap(cmd, annot=True, fmt='d')\n",
        "plt.title(\"Confusion Matrix for AdaBoost\")\n",
        "plt.show()"
      ]
    },
    {
      "cell_type": "markdown",
      "source": [
        "The classification report"
      ],
      "metadata": {
        "id": "pLVRAklBm_K5"
      }
    },
    {
      "cell_type": "code",
      "execution_count": null,
      "metadata": {
        "colab": {
          "base_uri": "https://localhost:8080/"
        },
        "id": "j-GTtHYnITDK",
        "outputId": "f0b10ccf-6f47-4a09-ae92-dfd2e74fa024"
      },
      "outputs": [
        {
          "output_type": "stream",
          "name": "stdout",
          "text": [
            "              precision    recall  f1-score   support\n",
            "\n",
            "           0       0.98      0.95      0.96        43\n",
            "           1       0.97      0.99      0.98        71\n",
            "\n",
            "    accuracy                           0.97       114\n",
            "   macro avg       0.97      0.97      0.97       114\n",
            "weighted avg       0.97      0.97      0.97       114\n",
            "\n"
          ]
        }
      ],
      "source": [
        "classification_reports['AdaBoost'] = classification_report(y_test, y_pred)\n",
        "print(classification_report(y_test, y_pred))"
      ]
    },
    {
      "cell_type": "markdown",
      "source": [
        "**Dession Tree**"
      ],
      "metadata": {
        "id": "kOCQn0xo1H00"
      }
    },
    {
      "cell_type": "markdown",
      "source": [
        "Model Evaluation - Dession Tree"
      ],
      "metadata": {
        "id": "HuZLDOapnCdU"
      }
    },
    {
      "cell_type": "code",
      "execution_count": null,
      "metadata": {
        "colab": {
          "base_uri": "https://localhost:8080/"
        },
        "id": "nq2etL63IbaJ",
        "outputId": "22a6d031-93a6-474c-e675-d6e292e82150"
      },
      "outputs": [
        {
          "output_type": "stream",
          "name": "stdout",
          "text": [
            "Decision Tree Accuracy: 0.9385964912280702\n"
          ]
        }
      ],
      "source": [
        "from sklearn.tree import DecisionTreeClassifier\n",
        "clf = DecisionTreeClassifier()\n",
        "clf.fit(X_train, y_train)\n",
        "y_pred = clf.predict(X_test)\n",
        "accuracy = accuracy_score(y_test, y_pred)\n",
        "print(\"Decision Tree Accuracy:\", accuracy)"
      ]
    },
    {
      "cell_type": "markdown",
      "source": [
        "Confusion Matrix Visualization"
      ],
      "metadata": {
        "id": "GwF61ryUnH_h"
      }
    },
    {
      "cell_type": "code",
      "execution_count": null,
      "metadata": {
        "colab": {
          "base_uri": "https://localhost:8080/",
          "height": 452
        },
        "id": "hsrJ9DtpIhEj",
        "outputId": "320aabcf-f565-4e30-8a28-e2dfb7160823"
      },
      "outputs": [
        {
          "output_type": "display_data",
          "data": {
            "text/plain": [
              "<Figure size 640x480 with 2 Axes>"
            ],
            "image/png": "[encoded data removed]"
          },
          "metadata": {}
        }
      ],
      "source": [
        "cmd = confusion_matrix(y_test, y_pred)\n",
        "sns.heatmap(cmd, annot=True, fmt='d')\n",
        "plt.title(\"Confusion Matrix for Decision Tree\")\n",
        "plt.show()"
      ]
    },
    {
      "cell_type": "markdown",
      "source": [
        "Classification reports"
      ],
      "metadata": {
        "id": "CnJ3MnRrnKnv"
      }
    },
    {
      "cell_type": "code",
      "execution_count": null,
      "metadata": {
        "colab": {
          "base_uri": "https://localhost:8080/"
        },
        "id": "o7-bcGFVIi7_",
        "outputId": "6af82508-f450-4876-e917-5dddd19fc050"
      },
      "outputs": [
        {
          "output_type": "stream",
          "name": "stdout",
          "text": [
            "              precision    recall  f1-score   support\n",
            "\n",
            "           0       0.91      0.93      0.92        43\n",
            "           1       0.96      0.94      0.95        71\n",
            "\n",
            "    accuracy                           0.94       114\n",
            "   macro avg       0.93      0.94      0.93       114\n",
            "weighted avg       0.94      0.94      0.94       114\n",
            "\n"
          ]
        }
      ],
      "source": [
        "classification_reports['Decision Tree'] = classification_report(y_test, y_pred)\n",
        "print(classification_report(y_test, y_pred))"
      ]
    },
    {
      "cell_type": "markdown",
      "source": [
        "**Regression logistic**"
      ],
      "metadata": {
        "id": "KE0NBwa_1gIJ"
      }
    },
    {
      "cell_type": "markdown",
      "source": [
        "Model Evaluation - regression logistic"
      ],
      "metadata": {
        "id": "8O069S3hnPKG"
      }
    },
    {
      "cell_type": "code",
      "execution_count": null,
      "metadata": {
        "colab": {
          "base_uri": "https://localhost:8080/"
        },
        "id": "d2m9mjpfIojE",
        "outputId": "23cbb810-a11e-4b24-d581-882d0fda8795"
      },
      "outputs": [
        {
          "output_type": "stream",
          "name": "stdout",
          "text": [
            "Logistic Regression Accuracy: 0.9736842105263158\n"
          ]
        }
      ],
      "source": [
        "from sklearn.linear_model import LogisticRegression\n",
        "clf = LogisticRegression()\n",
        "clf.fit(X_train, y_train)\n",
        "y_pred = clf.predict(X_test)\n",
        "accuracy = accuracy_score(y_test, y_pred)\n",
        "print(\"Logistic Regression Accuracy:\", accuracy)"
      ]
    },
    {
      "cell_type": "markdown",
      "source": [
        "Confusion Matrix Visualization"
      ],
      "metadata": {
        "id": "1bjkiVesnUcT"
      }
    },
    {
      "cell_type": "code",
      "execution_count": null,
      "metadata": {
        "colab": {
          "base_uri": "https://localhost:8080/",
          "height": 452
        },
        "id": "iqKH85UIIs-j",
        "outputId": "348edc67-b1bb-4ecd-bfd0-960fe90aa367"
      },
      "outputs": [
        {
          "output_type": "display_data",
          "data": {
            "text/plain": [
              "<Figure size 640x480 with 2 Axes>"
            ],
            "image/png": "[encoded data removed]"
          },
          "metadata": {}
        }
      ],
      "source": [
        "cmd = confusion_matrix(y_test, y_pred)\n",
        "sns.heatmap(cmd, annot=True, fmt='d')\n",
        "plt.title(\"Confusion Matrix for Logistic Regression\")\n",
        "plt.show()"
      ]
    },
    {
      "cell_type": "markdown",
      "source": [
        "Classification report"
      ],
      "metadata": {
        "id": "QOXE_qNPnYf_"
      }
    },
    {
      "cell_type": "code",
      "execution_count": null,
      "metadata": {
        "colab": {
          "base_uri": "https://localhost:8080/"
        },
        "id": "_4izLb5GIvX2",
        "outputId": "355d2d39-5744-4a1d-b843-99c2c58b85a4"
      },
      "outputs": [
        {
          "output_type": "stream",
          "name": "stdout",
          "text": [
            "              precision    recall  f1-score   support\n",
            "\n",
            "           0       0.98      0.95      0.96        43\n",
            "           1       0.97      0.99      0.98        71\n",
            "\n",
            "    accuracy                           0.97       114\n",
            "   macro avg       0.97      0.97      0.97       114\n",
            "weighted avg       0.97      0.97      0.97       114\n",
            "\n"
          ]
        }
      ],
      "source": [
        "classification_reports['Logistic Regression'] = classification_report(y_test, y_pred)\n",
        "print(classification_report(y_test, y_pred))"
      ]
    },
    {
      "cell_type": "markdown",
      "source": [
        "**KNN**"
      ],
      "metadata": {
        "id": "RZsRrcVE1ksF"
      }
    },
    {
      "cell_type": "markdown",
      "source": [
        "Model Evaluation - KNN"
      ],
      "metadata": {
        "id": "ZpWkXWcbnbks"
      }
    },
    {
      "cell_type": "code",
      "execution_count": null,
      "metadata": {
        "colab": {
          "base_uri": "https://localhost:8080/"
        },
        "id": "S3JAlNjfIxwu",
        "outputId": "fb11ebfe-3bfd-4847-910b-1c92a3b9fa7d"
      },
      "outputs": [
        {
          "output_type": "stream",
          "name": "stdout",
          "text": [
            "KNN Accuracy: 0.9473684210526315\n"
          ]
        }
      ],
      "source": [
        "from sklearn.neighbors import KNeighborsClassifier\n",
        "clf = KNeighborsClassifier(n_neighbors=5)\n",
        "clf.fit(X_train, y_train)\n",
        "y_pred = clf.predict(X_test)\n",
        "accuracy = accuracy_score(y_test, y_pred)\n",
        "print(\"KNN Accuracy:\", accuracy)"
      ]
    },
    {
      "cell_type": "markdown",
      "source": [
        "Confusion Matrix Visualization"
      ],
      "metadata": {
        "id": "qb0n7W17nhG7"
      }
    },
    {
      "cell_type": "code",
      "execution_count": null,
      "metadata": {
        "colab": {
          "base_uri": "https://localhost:8080/",
          "height": 452
        },
        "id": "bQTSdCefI8KH",
        "outputId": "f7b5260a-18fd-4cfb-d1de-2a7ded3aaca9"
      },
      "outputs": [
        {
          "output_type": "display_data",
          "data": {
            "text/plain": [
              "<Figure size 640x480 with 2 Axes>"
            ],
            "image/png": "[encoded data removed]"
          },
          "metadata": {}
        }
      ],
      "source": [
        "cmd = confusion_matrix(y_test, y_pred)\n",
        "sns.heatmap(cmd, annot=True, fmt='d')\n",
        "plt.title(\"Confusion Matrix for KNN\")\n",
        "plt.show()"
      ]
    },
    {
      "cell_type": "markdown",
      "source": [
        "Classification report"
      ],
      "metadata": {
        "id": "7wv8o6o0nkih"
      }
    },
    {
      "cell_type": "code",
      "execution_count": null,
      "metadata": {
        "colab": {
          "base_uri": "https://localhost:8080/"
        },
        "id": "P7t9-RXfI_mX",
        "outputId": "aed665f1-44aa-42a0-d6fa-52ea744209c8"
      },
      "outputs": [
        {
          "output_type": "stream",
          "name": "stdout",
          "text": [
            "              precision    recall  f1-score   support\n",
            "\n",
            "           0       0.93      0.93      0.93        43\n",
            "           1       0.96      0.96      0.96        71\n",
            "\n",
            "    accuracy                           0.95       114\n",
            "   macro avg       0.94      0.94      0.94       114\n",
            "weighted avg       0.95      0.95      0.95       114\n",
            "\n"
          ]
        }
      ],
      "source": [
        "classification_reports['KNN'] = classification_report(y_test, y_pred)\n",
        "print(classification_report(y_test, y_pred))"
      ]
    },
    {
      "cell_type": "markdown",
      "source": [
        "**Comparaison des Classification Reports**"
      ],
      "metadata": {
        "id": "frpXZHli5C-Q"
      }
    },
    {
      "cell_type": "code",
      "source": [
        "# Afficher tous les classification reports stockés\n",
        "print(\"=================================================\")\n",
        "print(\"             Comparison of Classification Reports\")\n",
        "print(\"=================================================\")\n",
        "\n",
        "for algo_name, report in classification_reports.items():\n",
        "    print(f\"\\n--- {algo_name} ---\")\n",
        "    print(report)\n",
        "\n",
        "print(\"=================================================\")"
      ],
      "metadata": {
        "colab": {
          "base_uri": "https://localhost:8080/"
        },
        "id": "uNA2Ph3h2bLf",
        "outputId": "d0a3b359-0a06-42c8-bb73-988bf85f2d89"
      },
      "execution_count": null,
      "outputs": [
        {
          "output_type": "stream",
          "name": "stdout",
          "text": [
            "=================================================\n",
            "             Comparison of Classification Reports\n",
            "=================================================\n",
            "\n",
            "--- Random Forest ---\n",
            "              precision    recall  f1-score   support\n",
            "\n",
            "           0       0.98      0.93      0.95        43\n",
            "           1       0.96      0.99      0.97        71\n",
            "\n",
            "    accuracy                           0.96       114\n",
            "   macro avg       0.97      0.96      0.96       114\n",
            "weighted avg       0.97      0.96      0.96       114\n",
            "\n",
            "\n",
            "--- SVM ---\n",
            "              precision    recall  f1-score   support\n",
            "\n",
            "           0       0.93      0.95      0.94        43\n",
            "           1       0.97      0.96      0.96        71\n",
            "\n",
            "    accuracy                           0.96       114\n",
            "   macro avg       0.95      0.96      0.95       114\n",
            "weighted avg       0.96      0.96      0.96       114\n",
            "\n",
            "\n",
            "--- AdaBoost ---\n",
            "              precision    recall  f1-score   support\n",
            "\n",
            "           0       0.98      0.95      0.96        43\n",
            "           1       0.97      0.99      0.98        71\n",
            "\n",
            "    accuracy                           0.97       114\n",
            "   macro avg       0.97      0.97      0.97       114\n",
            "weighted avg       0.97      0.97      0.97       114\n",
            "\n",
            "\n",
            "--- Decision Tree ---\n",
            "              precision    recall  f1-score   support\n",
            "\n",
            "           0       0.91      0.93      0.92        43\n",
            "           1       0.96      0.94      0.95        71\n",
            "\n",
            "    accuracy                           0.94       114\n",
            "   macro avg       0.93      0.94      0.93       114\n",
            "weighted avg       0.94      0.94      0.94       114\n",
            "\n",
            "\n",
            "--- Logistic Regression ---\n",
            "              precision    recall  f1-score   support\n",
            "\n",
            "           0       0.98      0.95      0.96        43\n",
            "           1       0.97      0.99      0.98        71\n",
            "\n",
            "    accuracy                           0.97       114\n",
            "   macro avg       0.97      0.97      0.97       114\n",
            "weighted avg       0.97      0.97      0.97       114\n",
            "\n",
            "\n",
            "--- KNN ---\n",
            "              precision    recall  f1-score   support\n",
            "\n",
            "           0       0.93      0.93      0.93        43\n",
            "           1       0.96      0.96      0.96        71\n",
            "\n",
            "    accuracy                           0.95       114\n",
            "   macro avg       0.94      0.94      0.94       114\n",
            "weighted avg       0.95      0.95      0.95       114\n",
            "\n",
            "=================================================\n"
          ]
        }
      ]
    },
    {
      "cell_type": "markdown",
      "source": [
        "# Traitement avec GridSearchCV"
      ],
      "metadata": {
        "id": "GHxPsA988Rbz"
      }
    },
    {
      "cell_type": "markdown",
      "source": [
        "Définir les classificateurs avec les paramètres de chaque modèles utilisé dans le traitement"
      ],
      "metadata": {
        "id": "CzdSHnGnn5fI"
      }
    },
    {
      "cell_type": "code",
      "source": [
        "# Définir les classificateurs et leurs grilles de paramètres respectives\n",
        "classifiers = [\n",
        "    {\n",
        "        'name': 'Random Forest',\n",
        "        'estimator': RandomForestClassifier(random_state=42),\n",
        "        'param_grid': {\n",
        "            'n_estimators': [50, 100, 200],\n",
        "            'max_depth': [None, 10, 20],\n",
        "            'min_samples_split': [2, 5, 10]\n",
        "        }\n",
        "    },\n",
        "    {\n",
        "        'name': 'Naïve Bayes',\n",
        "        'estimator': GaussianNB(),\n",
        "        'param_grid': {\n",
        "            # GaussianNB n'a généralement pas beaucoup de paramètres à régler,\n",
        "            'var_smoothing': [1e-9, 1e-8, 1e-7]\n",
        "        }\n",
        "    },\n",
        "    {\n",
        "        'name': 'SVM Classifier',\n",
        "        'estimator': SVC(kernel='linear', probability=True, random_state=42), # probability=True pour roc_auc\n",
        "        'param_grid': {\n",
        "            'C': [0.1, 1, 10]\n",
        "        }\n",
        "    },\n",
        "    {\n",
        "        'name': 'AdaBoost Classifier',\n",
        "        'estimator': AdaBoostClassifier(random_state=42),\n",
        "        'param_grid': {\n",
        "            'n_estimators': [50, 100, 200],\n",
        "            'learning_rate': [0.01, 0.1, 1.0]\n",
        "        }\n",
        "    },\n",
        "     {\n",
        "        'name': 'Decision Tree',\n",
        "        'estimator': DecisionTreeClassifier(random_state=42),\n",
        "        'param_grid': {\n",
        "            'max_depth': [None, 10, 20],\n",
        "            'min_samples_split': [2, 5, 10]\n",
        "        }\n",
        "    },\n",
        "    {\n",
        "        'name': 'Logistic Regression',\n",
        "        'estimator': LogisticRegression(random_state=42, solver='liblinear'), # Utiliser un solver approprié\n",
        "        'param_grid': {\n",
        "            'C': [0.01, 0.1, 1, 10],\n",
        "             'penalty': ['l1', 'l2'] # l1 et l2 sont courants pour liblinear\n",
        "        }\n",
        "    },\n",
        "     {\n",
        "        'name': 'KNN',\n",
        "        'estimator': KNeighborsClassifier(),\n",
        "        'param_grid': {\n",
        "            'n_neighbors': [3, 5, 7, 9],\n",
        "            'weights': ['uniform', 'distance']\n",
        "        }\n",
        "    }\n",
        "]"
      ],
      "metadata": {
        "id": "a8nPpogg8TNU"
      },
      "execution_count": null,
      "outputs": []
    },
    {
      "cell_type": "markdown",
      "source": [
        "**Le score AUC** : \"Area Under the Curve\", ou \"Aire sous la courbe\". Il est utilisé pour évaluer les performances d’un modèle de classification binaire, en particulier à partir de la courbe ROC (Receiver Operating Characteristic).\n",
        "\n",
        "**Courbe ROC** : C’est une courbe qui trace le taux de vrais positifs (sensibilité) en fonction du taux de faux positifs (1 - spécificité).\n",
        "\n",
        "Elle montre comment le modèle se comporte à différents seuils de décision.\n",
        "\n",
        "**Score AUC (ROC AUC Score)** :\n",
        "Le score AUC correspond à l’aire sous cette courbe.\n",
        "Il varie entre 0 et 1 :\n",
        "\n",
        "*   1.0 : modèle parfait.\n",
        "*   0.5 : modèle aléatoire (pas mieux qu’un pile ou face).\n",
        "*   < 0.5 : modèle inverse (pire qu’aléatoire).\n",
        "\n",
        "Plus le score est proche de 1, meilleur est le modèle pour séparer les deux classes (positif et négatif).\n",
        "\n",
        "C’est un indicateur robuste, car il prend en compte toutes les valeurs possibles du seuil de décision, pas seulement une valeur fixe."
      ],
      "metadata": {
        "id": "benJDi9xoQ3H"
      }
    },
    {
      "cell_type": "code",
      "source": [
        "# Dictionnaires pour stocker les meilleurs résultats\n",
        "best_estimators = {}\n",
        "best_params = {}\n",
        "accuracies = {}\n",
        "classification_reports = {}\n",
        "confusion_matrices = {}\n",
        "roc_auc_scores = {} # Pour stocker les scores AUC"
      ],
      "metadata": {
        "id": "5rEYtay48rXh"
      },
      "execution_count": null,
      "outputs": []
    },
    {
      "cell_type": "code",
      "source": [
        "# Boucler sur chaque classificateur pour faire la recherche de grille\n",
        "print(\"Starting GridSearchCV for all classifiers...\")\n",
        "for classifier_info in classifiers:\n",
        "    name = classifier_info['name']\n",
        "    estimator = classifier_info['estimator']\n",
        "    param_grid = classifier_info['param_grid']\n",
        "\n",
        "    print(f\"\\n--- Running GridSearchCV for {name} ---\")\n",
        "\n",
        "    start_time = time.time()\n",
        "\n",
        "    grid_search = GridSearchCV(estimator, param_grid, cv=5, scoring='accuracy', n_jobs=-1)\n",
        "\n",
        "    # Exécuter la recherche de grille sur les données d'entraînement\n",
        "    grid_search.fit(X_train, y_train)\n",
        "\n",
        "    end_time = time.time()\n",
        "    print(f\"GridSearchCV for {name} finished in {end_time - start_time:.2f} seconds.\")\n",
        "\n",
        "    # Meilleurs paramètres et meilleur score\n",
        "    best_params[name] = grid_search.best_params_\n",
        "    best_estimators[name] = grid_search.best_estimator_\n",
        "\n",
        "    print(f\"Best parameters for {name}: {best_params[name]}\")\n",
        "    print(f\"Best cross-validation score for {name}: {grid_search.best_score_:.4f}\")\n",
        "\n",
        "    # Évaluer le meilleur estimateur sur l'ensemble de test\n",
        "    y_pred = best_estimators[name].predict(X_test)\n",
        "    accuracy = accuracy_score(y_test, y_pred)\n",
        "    accuracies[name] = accuracy\n",
        "    print(f\"{name} Test Accuracy: {accuracy:.4f}\")\n",
        "\n",
        "    # Générer et stocker le classification report\n",
        "    classification_reports[name] = classification_report(y_test, y_pred)\n",
        "\n",
        "    # Générer et stocker la matrice de confusion\n",
        "    confusion_matrices[name] = confusion_matrix(y_test, y_pred)\n",
        "\n",
        "    # Calculer et stocker le score ROC AUC si le modèle le permet (nécessite predict_proba ou decision_function)\n",
        "    try:\n",
        "        if hasattr(best_estimators[name], \"predict_proba\"):\n",
        "            y_probs = best_estimators[name].predict_proba(X_test)[:, 1]\n",
        "        elif hasattr(best_estimators[name], \"decision_function\"):\n",
        "             # SVM avec kernel='linear' a decision_function, pas predict_proba par défaut\n",
        "             y_probs = best_estimators[name].decision_function(X_test)\n",
        "        else:\n",
        "            y_probs = None # Modèle ne supporte pas predict_proba/decision_function pour AUC\n",
        "\n",
        "        if y_probs is not None:\n",
        "             roc_auc = roc_auc_score(y_test, y_probs)\n",
        "             roc_auc_scores[name] = roc_auc\n",
        "             print(f\"{name} ROC AUC Score: {roc_auc:.4f}\")\n",
        "        else:\n",
        "             print(f\"{name} does not support ROC AUC calculation.\")\n",
        "\n",
        "    except Exception as e:\n",
        "        print(f\"Could not calculate ROC AUC for {name}: {e}\")\n",
        "        roc_auc_scores[name] = None # Indiquer que le calcul a échoué\n",
        "\n",
        "\n",
        "print(\"\\nGridSearchCV for all classifiers completed.\")"
      ],
      "metadata": {
        "colab": {
          "base_uri": "https://localhost:8080/"
        },
        "id": "FR9FKZS285st",
        "outputId": "b8a29d6d-1ad0-4926-9fbe-5826cdf424b8"
      },
      "execution_count": null,
      "outputs": [
        {
          "output_type": "stream",
          "name": "stdout",
          "text": [
            "Starting GridSearchCV for all classifiers...\n",
            "\n",
            "--- Running GridSearchCV for Random Forest ---\n",
            "GridSearchCV for Random Forest finished in 36.70 seconds.\n",
            "Best parameters for Random Forest: {'max_depth': None, 'min_samples_split': 2, 'n_estimators': 200}\n",
            "Best cross-validation score for Random Forest: 0.9626\n",
            "Random Forest Test Accuracy: 0.9649\n",
            "Random Forest ROC AUC Score: 0.9959\n",
            "\n",
            "--- Running GridSearchCV for Naïve Bayes ---\n",
            "GridSearchCV for Naïve Bayes finished in 0.06 seconds.\n",
            "Best parameters for Naïve Bayes: {'var_smoothing': 1e-09}\n",
            "Best cross-validation score for Naïve Bayes: 0.9341\n",
            "Naïve Bayes Test Accuracy: 0.9649\n",
            "Naïve Bayes ROC AUC Score: 0.9974\n",
            "\n",
            "--- Running GridSearchCV for SVM Classifier ---\n",
            "GridSearchCV for SVM Classifier finished in 0.23 seconds.\n",
            "Best parameters for SVM Classifier: {'C': 0.1}\n",
            "Best cross-validation score for SVM Classifier: 0.9758\n",
            "SVM Classifier Test Accuracy: 0.9825\n",
            "SVM Classifier ROC AUC Score: 0.9974\n",
            "\n",
            "--- Running GridSearchCV for AdaBoost Classifier ---\n",
            "GridSearchCV for AdaBoost Classifier finished in 17.15 seconds.\n",
            "Best parameters for AdaBoost Classifier: {'learning_rate': 1.0, 'n_estimators': 50}\n",
            "Best cross-validation score for AdaBoost Classifier: 0.9802\n",
            "AdaBoost Classifier Test Accuracy: 0.9649\n",
            "AdaBoost Classifier ROC AUC Score: 0.9921\n",
            "\n",
            "--- Running GridSearchCV for Decision Tree ---\n",
            "GridSearchCV for Decision Tree finished in 0.36 seconds.\n",
            "Best parameters for Decision Tree: {'max_depth': None, 'min_samples_split': 10}\n",
            "Best cross-validation score for Decision Tree: 0.9253\n",
            "Decision Tree Test Accuracy: 0.9474\n",
            "Decision Tree ROC AUC Score: 0.9435\n",
            "\n",
            "--- Running GridSearchCV for Logistic Regression ---\n",
            "GridSearchCV for Logistic Regression finished in 0.23 seconds.\n",
            "Best parameters for Logistic Regression: {'C': 0.1, 'penalty': 'l2'}\n",
            "Best cross-validation score for Logistic Regression: 0.9780\n",
            "Logistic Regression Test Accuracy: 0.9912\n",
            "Logistic Regression ROC AUC Score: 0.9987\n",
            "\n",
            "--- Running GridSearchCV for KNN ---\n",
            "GridSearchCV for KNN finished in 0.16 seconds.\n",
            "Best parameters for KNN: {'n_neighbors': 7, 'weights': 'distance'}\n",
            "Best cross-validation score for KNN: 0.9626\n",
            "KNN Test Accuracy: 0.9474\n",
            "KNN ROC AUC Score: 0.9823\n",
            "\n",
            "GridSearchCV for all classifiers completed.\n"
          ]
        }
      ]
    },
    {
      "cell_type": "markdown",
      "source": [
        "# Résultats de la GridSearchCV et Comparaison"
      ],
      "metadata": {
        "id": "aczERoH29pt-"
      }
    },
    {
      "cell_type": "code",
      "source": [
        "print(\"=================================================\")\n",
        "print(\"       Comparison of Classifier Performance (after GridSearchCV)\")\n",
        "print(\"=================================================\")\n",
        "\n",
        "# Afficher les meilleurs paramètres trouvés\n",
        "print(\"\\n--- Best Parameters Found ---\")\n",
        "for name, params in best_params.items():\n",
        "    print(f\"{name}: {params}\")\n",
        "\n",
        "# Afficher les précisions sur l'ensemble de test\n",
        "print(\"\\n--- Test Set Accuracies ---\")\n",
        "for name, acc in accuracies.items():\n",
        "    print(f\"{name}: {acc:.4f}\")\n",
        "\n",
        "# Afficher les scores ROC AUC sur l'ensemble de test\n",
        "print(\"\\n--- Test Set ROC AUC Scores ---\")\n",
        "for name, auc in roc_auc_scores.items():\n",
        "    if auc is not None:\n",
        "        print(f\"{name}: {auc:.4f}\")\n",
        "    else:\n",
        "         print(f\"{name}: N/A\") # Not Available si le calcul a échoué\n",
        "\n",
        "# Afficher tous les classification reports stockés\n",
        "print(\"\\n=================================================\")\n",
        "print(\"             Classification Reports (after GridSearchCV)\")\n",
        "print(\"=================================================\")\n",
        "\n",
        "for algo_name, report in classification_reports.items():\n",
        "    print(f\"\\n--- {algo_name} ---\")\n",
        "    print(report)\n",
        "\n",
        "print(\"=================================================\")"
      ],
      "metadata": {
        "colab": {
          "base_uri": "https://localhost:8080/"
        },
        "id": "mU5ESJPU9Ouo",
        "outputId": "4a89c6b9-c4bf-42bd-ad64-0bc9da9d1563"
      },
      "execution_count": null,
      "outputs": [
        {
          "output_type": "stream",
          "name": "stdout",
          "text": [
            "=================================================\n",
            "       Comparison of Classifier Performance (after GridSearchCV)\n",
            "=================================================\n",
            "\n",
            "--- Best Parameters Found ---\n",
            "Random Forest: {'max_depth': None, 'min_samples_split': 2, 'n_estimators': 200}\n",
            "Naïve Bayes: {'var_smoothing': 1e-09}\n",
            "SVM Classifier: {'C': 0.1}\n",
            "AdaBoost Classifier: {'learning_rate': 1.0, 'n_estimators': 50}\n",
            "Decision Tree: {'max_depth': None, 'min_samples_split': 10}\n",
            "Logistic Regression: {'C': 0.1, 'penalty': 'l2'}\n",
            "KNN: {'n_neighbors': 7, 'weights': 'distance'}\n",
            "\n",
            "--- Test Set Accuracies ---\n",
            "Random Forest: 0.9649\n",
            "Naïve Bayes: 0.9649\n",
            "SVM Classifier: 0.9825\n",
            "AdaBoost Classifier: 0.9649\n",
            "Decision Tree: 0.9474\n",
            "Logistic Regression: 0.9912\n",
            "KNN: 0.9474\n",
            "\n",
            "--- Test Set ROC AUC Scores ---\n",
            "Random Forest: 0.9959\n",
            "Naïve Bayes: 0.9974\n",
            "SVM Classifier: 0.9974\n",
            "AdaBoost Classifier: 0.9921\n",
            "Decision Tree: 0.9435\n",
            "Logistic Regression: 0.9987\n",
            "KNN: 0.9823\n",
            "\n",
            "=================================================\n",
            "             Classification Reports (after GridSearchCV)\n",
            "=================================================\n",
            "\n",
            "--- Random Forest ---\n",
            "              precision    recall  f1-score   support\n",
            "\n",
            "           0       0.98      0.93      0.95        43\n",
            "           1       0.96      0.99      0.97        71\n",
            "\n",
            "    accuracy                           0.96       114\n",
            "   macro avg       0.97      0.96      0.96       114\n",
            "weighted avg       0.97      0.96      0.96       114\n",
            "\n",
            "\n",
            "--- Naïve Bayes ---\n",
            "              precision    recall  f1-score   support\n",
            "\n",
            "           0       0.98      0.93      0.95        43\n",
            "           1       0.96      0.99      0.97        71\n",
            "\n",
            "    accuracy                           0.96       114\n",
            "   macro avg       0.97      0.96      0.96       114\n",
            "weighted avg       0.97      0.96      0.96       114\n",
            "\n",
            "\n",
            "--- SVM Classifier ---\n",
            "              precision    recall  f1-score   support\n",
            "\n",
            "           0       1.00      0.95      0.98        43\n",
            "           1       0.97      1.00      0.99        71\n",
            "\n",
            "    accuracy                           0.98       114\n",
            "   macro avg       0.99      0.98      0.98       114\n",
            "weighted avg       0.98      0.98      0.98       114\n",
            "\n",
            "\n",
            "--- AdaBoost Classifier ---\n",
            "              precision    recall  f1-score   support\n",
            "\n",
            "           0       0.98      0.93      0.95        43\n",
            "           1       0.96      0.99      0.97        71\n",
            "\n",
            "    accuracy                           0.96       114\n",
            "   macro avg       0.97      0.96      0.96       114\n",
            "weighted avg       0.97      0.96      0.96       114\n",
            "\n",
            "\n",
            "--- Decision Tree ---\n",
            "              precision    recall  f1-score   support\n",
            "\n",
            "           0       0.93      0.93      0.93        43\n",
            "           1       0.96      0.96      0.96        71\n",
            "\n",
            "    accuracy                           0.95       114\n",
            "   macro avg       0.94      0.94      0.94       114\n",
            "weighted avg       0.95      0.95      0.95       114\n",
            "\n",
            "\n",
            "--- Logistic Regression ---\n",
            "              precision    recall  f1-score   support\n",
            "\n",
            "           0       1.00      0.98      0.99        43\n",
            "           1       0.99      1.00      0.99        71\n",
            "\n",
            "    accuracy                           0.99       114\n",
            "   macro avg       0.99      0.99      0.99       114\n",
            "weighted avg       0.99      0.99      0.99       114\n",
            "\n",
            "\n",
            "--- KNN ---\n",
            "              precision    recall  f1-score   support\n",
            "\n",
            "           0       0.93      0.93      0.93        43\n",
            "           1       0.96      0.96      0.96        71\n",
            "\n",
            "    accuracy                           0.95       114\n",
            "   macro avg       0.94      0.94      0.94       114\n",
            "weighted avg       0.95      0.95      0.95       114\n",
            "\n",
            "=================================================\n"
          ]
        }
      ]
    },
    {
      "cell_type": "markdown",
      "source": [
        "# Visualisation ROC Curves"
      ],
      "metadata": {
        "id": "5rH-hJHF2_vM"
      }
    },
    {
      "cell_type": "code",
      "source": [
        "# Tracer les courbes ROC pour les modèles qui supportent predict_proba/decision_function\n",
        "plt.figure(figsize=(10, 8))\n",
        "\n",
        "for name, estimator in best_estimators.items():\n",
        "    if name in roc_auc_scores and roc_auc_scores[name] is not None:\n",
        "        try:\n",
        "            if hasattr(estimator, \"predict_proba\"):\n",
        "                 y_probs = estimator.predict_proba(X_test)[:, 1]\n",
        "            elif hasattr(estimator, \"decision_function\"):\n",
        "                 y_probs = estimator.decision_function(X_test)\n",
        "            else:\n",
        "                 continue # Skip if neither is available\n",
        "\n",
        "            fpr, tpr, thresholds = roc_curve(y_test, y_probs)\n",
        "            auc_score = roc_auc_score(y_test, y_probs) # Recalculer AUC pour la légende\n",
        "            plt.plot(fpr, tpr, label=f'{name} (AUC = {auc_score:.2f})')\n",
        "        except Exception as e:\n",
        "             print(f\"Error plotting ROC curve for {name}: {e}\")\n",
        "             continue\n",
        "\n",
        "\n",
        "plt.plot([0, 1], [0, 1], 'k--', label='Random Classifier')\n",
        "plt.xlabel('False Positive Rate')\n",
        "plt.ylabel('True Positive Rate')\n",
        "plt.title('Receiver Operating Characteristic (ROC) Curves')\n",
        "plt.legend(loc='lower right')\n",
        "plt.grid(True)\n",
        "plt.show()"
      ],
      "metadata": {
        "colab": {
          "base_uri": "https://localhost:8080/",
          "height": 718
        },
        "id": "wRHlVjYh3JEx",
        "outputId": "d5b25c43-b200-4ae9-e9ad-06dc67d59bb8"
      },
      "execution_count": null,
      "outputs": [
        {
          "output_type": "display_data",
          "data": {
            "text/plain": [
              "<Figure size 1000x800 with 1 Axes>"
            ],
            "image/png": "[encoded data removed]"
          },
          "metadata": {}
        }
      ]
    },
    {
      "cell_type": "code",
      "source": [
        "print(\"\\n=================================================\")\n",
        "print(\"             Confusion Matrices (after GridSearchCV)\")\n",
        "print(\"=================================================\")\n",
        "#\n",
        "for algo_name, cm in confusion_matrices.items():\n",
        "     print(f\"\\n--- {algo_name} ---\")\n",
        "     sns.heatmap(cm, annot=True, fmt='d')\n",
        "     plt.title(f\"Confusion Matrix for {algo_name}\")\n",
        "     plt.show()\n",
        "     print(cm) # Afficher la matrice sous forme de tableau\n",
        "\n",
        "print(\"=================================================\")"
      ],
      "metadata": {
        "colab": {
          "base_uri": "https://localhost:8080/",
          "height": 1000
        },
        "id": "2yiHTVOiHolz",
        "outputId": "299fdc94-b29f-4942-f2cf-599feece92cb"
      },
      "execution_count": null,
      "outputs": [
        {
          "output_type": "stream",
          "name": "stdout",
          "text": [
            "\n",
            "=================================================\n",
            "             Confusion Matrices (after GridSearchCV)\n",
            "=================================================\n",
            "\n",
            "--- Random Forest ---\n"
          ]
        },
        {
          "output_type": "display_data",
          "data": {
            "text/plain": [
              "<Figure size 640x480 with 2 Axes>"
            ],
            "image/png": "[encoded data removed]"
          },
          "metadata": {}
        },
        {
          "output_type": "stream",
          "name": "stdout",
          "text": [
            "[[40  3]\n",
            " [ 1 70]]\n",
            "\n",
            "--- Naïve Bayes ---\n"
          ]
        },
        {
          "output_type": "display_data",
          "data": {
            "text/plain": [
              "<Figure size 640x480 with 2 Axes>"
            ],
            "image/png": "[encoded data removed]"
          },
          "metadata": {}
        },
        {
          "output_type": "stream",
          "name": "stdout",
          "text": [
            "[[40  3]\n",
            " [ 1 70]]\n",
            "\n",
            "--- SVM Classifier ---\n"
          ]
        },
        {
          "output_type": "display_data",
          "data": {
            "text/plain": [
              "<Figure size 640x480 with 2 Axes>"
            ],
            "image/png": "[encoded data removed]"
          },
          "metadata": {}
        },
        {
          "output_type": "stream",
          "name": "stdout",
          "text": [
            "[[41  2]\n",
            " [ 0 71]]\n",
            "\n",
            "--- AdaBoost Classifier ---\n"
          ]
        },
        {
          "output_type": "display_data",
          "data": {
            "text/plain": [
              "<Figure size 640x480 with 2 Axes>"
            ],
            "image/png": "[encoded data removed]"
          },
          "metadata": {}
        },
        {
          "output_type": "stream",
          "name": "stdout",
          "text": [
            "[[40  3]\n",
            " [ 1 70]]\n",
            "\n",
            "--- Decision Tree ---\n"
          ]
        },
        {
          "output_type": "display_data",
          "data": {
            "text/plain": [
              "<Figure size 640x480 with 2 Axes>"
            ],
            "image/png": "[encoded data removed]"
          },
          "metadata": {}
        },
        {
          "output_type": "stream",
          "name": "stdout",
          "text": [
            "[[40  3]\n",
            " [ 3 68]]\n",
            "\n",
            "--- Logistic Regression ---\n"
          ]
        },
        {
          "output_type": "display_data",
          "data": {
            "text/plain": [
              "<Figure size 640x480 with 2 Axes>"
            ],
            "image/png": "[encoded data removed]"
          },
          "metadata": {}
        },
        {
          "output_type": "stream",
          "name": "stdout",
          "text": [
            "[[42  1]\n",
            " [ 0 71]]\n",
            "\n",
            "--- KNN ---\n"
          ]
        },
        {
          "output_type": "display_data",
          "data": {
            "text/plain": [
              "<Figure size 640x480 with 2 Axes>"
            ],
            "image/png": "[encoded data removed]"
          },
          "metadata": {}
        },
        {
          "output_type": "stream",
          "name": "stdout",
          "text": [
            "[[40  3]\n",
            " [ 3 68]]\n",
            "=================================================\n"
          ]
        }
      ]
    },
    {
      "cell_type": "markdown",
      "source": [
        "# Les Features Importants dans la dataset"
      ],
      "metadata": {
        "id": "qo122arT94QM"
      }
    },
    {
      "cell_type": "code",
      "source": [
        "best_rf_estimator = best_estimators.get('Random Forest')\n",
        "\n",
        "\n",
        "if best_rf_estimator is not None:\n",
        "  importances = best_rf_estimator.feature_importances_\n",
        "  feature_names = data.feature_names\n",
        "\n",
        "  # Create a DataFrame for better visualization\n",
        "  feature_importance_df = pd.DataFrame({\n",
        "      'feature': feature_names,\n",
        "      'importance': importances\n",
        "  })\n",
        "\n",
        "  # Sort by importance in descending order\n",
        "  feature_importance_df = feature_importance_df.sort_values('importance', ascending=False)\n",
        "\n",
        "  print(\"\\n--- Feature Importances from Best Random Forest Model ---\")\n",
        "  print(feature_importance_df)\n",
        "\n",
        "  # Optional: Visualize the feature importances\n",
        "  plt.figure(figsize=(12, 8))\n",
        "  sns.barplot(x='importance', y='feature', data=feature_importance_df)\n",
        "  plt.title('Feature Importances (Random Forest)')\n",
        "  plt.xlabel('Importance')\n",
        "  plt.ylabel('Feature')\n",
        "  plt.show()\n",
        "else:\n",
        "  print(\"\\nRandom Forest estimator not found in best_estimators.\")\n"
      ],
      "metadata": {
        "colab": {
          "base_uri": "https://localhost:8080/",
          "height": 1000
        },
        "id": "euUWzXnzA6ke",
        "outputId": "d298fce2-db7c-4e00-f9a9-e50b75146dac"
      },
      "execution_count": null,
      "outputs": [
        {
          "output_type": "stream",
          "name": "stdout",
          "text": [
            "\n",
            "--- Feature Importances from Best Random Forest Model ---\n",
            "                    feature  importance\n",
            "23               worst area    0.128549\n",
            "27     worst concave points    0.128343\n",
            "22          worst perimeter    0.127079\n",
            "7       mean concave points    0.119801\n",
            "20             worst radius    0.069273\n",
            "6            mean concavity    0.055773\n",
            "0               mean radius    0.050439\n",
            "3                 mean area    0.042542\n",
            "26          worst concavity    0.040747\n",
            "2            mean perimeter    0.038349\n",
            "13               area error    0.023545\n",
            "21            worst texture    0.020966\n",
            "25        worst compactness    0.017708\n",
            "10             radius error    0.016454\n",
            "5          mean compactness    0.014870\n",
            "1              mean texture    0.014745\n",
            "24         worst smoothness    0.013011\n",
            "16          concavity error    0.009897\n",
            "28           worst symmetry    0.009794\n",
            "4           mean smoothness    0.008533\n",
            "12          perimeter error    0.007931\n",
            "19  fractal dimension error    0.006241\n",
            "29  worst fractal dimension    0.005154\n",
            "15        compactness error    0.005008\n",
            "18           symmetry error    0.004703\n",
            "9    mean fractal dimension    0.004487\n",
            "14         smoothness error    0.004261\n",
            "11            texture error    0.004243\n",
            "17     concave points error    0.003922\n",
            "8             mean symmetry    0.003632\n"
          ]
        },
        {
          "output_type": "display_data",
          "data": {
            "text/plain": [
              "<Figure size 1200x800 with 1 Axes>"
            ],
            "image/png": "[encoded data removed]"
          },
          "metadata": {}
        }
      ]
    },
    {
      "cell_type": "markdown",
      "source": [
        "# Code d'utilisateur"
      ],
      "metadata": {
        "id": "Welg-o7_GaYP"
      }
    },
    {
      "cell_type": "code",
      "source": [
        "from ipywidgets import FloatText, VBox, Button, Label\n",
        "from IPython.display import display\n",
        "import numpy as np\n",
        "\n",
        "important_features = ['worst area', 'worst concave points', 'worst perimeter', 'mean concave points']\n",
        "feature_inputs = {}\n",
        "for feature in important_features:\n",
        "    feature_inputs[feature] = FloatText(description=feature + ':')\n",
        "\n",
        "output_label = Label(value=\"\")\n",
        "\n",
        "def predict_cancer_type(b):\n",
        "    # Get user input values\n",
        "    user_input_values = {}\n",
        "    for feature in important_features:\n",
        "        user_input_values[feature] = feature_inputs[feature].value\n",
        "\n",
        "    feature_indices = [list(data.feature_names).index(f) for f in important_features]\n",
        "\n",
        "    # Create a zero-filled array for a single sample (30 features)\n",
        "    single_sample = np.zeros(len(data.feature_names))\n",
        "\n",
        "    # Fill in the values for the important features\n",
        "    for i, feature_name in enumerate(important_features):\n",
        "        original_index = list(data.feature_names).index(feature_name)\n",
        "        single_sample[original_index] = user_input_values[feature_name]\n",
        "\n",
        "\n",
        "    # Scale the single sample using the same scaler fitted on the training data\n",
        "    single_sample_scaled = scaler.transform([single_sample]) # transform expects a 2D array\n",
        "\n",
        "    best_model_name = 'Random Forest'\n",
        "\n",
        "    best_model = best_estimators.get(best_model_name)\n",
        "\n",
        "    if best_model is None:\n",
        "        output_label.value = \"Error: Best model not found.\"\n",
        "        return\n",
        "\n",
        "    prediction = best_model.predict(single_sample_scaled)\n",
        "\n",
        "    # Decode the prediction (0 for benign, 1 for malignant)\n",
        "    predicted_class = le.inverse_transform(prediction)\n",
        "\n",
        "    # Display the result\n",
        "    if predicted_class[0] == 0:\n",
        "        output_label.value = f\"Prediction ({best_model_name}): Benign\"\n",
        "    else:\n",
        "        output_label.value = f\"Prediction ({best_model_name}): Malignant\"\n",
        "\n",
        "\n",
        "# Create the button\n",
        "predict_button = Button(description=\"Predict\")\n",
        "predict_button.on_click(predict_cancer_type)\n",
        "\n",
        "# Arrange the inputs and button\n",
        "input_widgets = [feature_inputs[feature] for feature in important_features]\n",
        "display(VBox(input_widgets + [predict_button, output_label]))\n"
      ],
      "metadata": {
        "colab": {
          "base_uri": "https://localhost:8080/",
          "height": 244,
          "referenced_widgets": [
            "977c0f65179140b685425fb49b7fe72a",
            "5f8cc3cd165e499a9294217228f22e84",
            "44928203f36446c3b6844e9594a61c68",
            "d1aa062939d042e3b6a1bfd60f35811f",
            "976f39bb3a704bba96f45848e2a14a0e",
            "67624db2ab014f5c90a2bbd306043cde",
            "5a49fefa2e5a4502a2caedbce1762fb7",
            "0ced15dfc68a4a5dab934eb451cf289b",
            "7a4edae20a314518af4a5002698472fa",
            "f11dbc02d5024d489aea8160fb7ee717",
            "7ce26c65a9164e3cbeb779291ff37da0",
            "fa68c10956a1470fa7469cce8fa85de3",
            "757bdb62c18d44278934d3f71bc32943",
            "b86291ddc1b042859d14974a9ef2a0d5",
            "0c73239367974fb5945ce95dbd57d3d7",
            "ecad3ade9f7649d497fe5f8391221543",
            "87e15e7011974d25b781f499cffba9cf",
            "8547a88219a34fcabbf5bed42a82df21",
            "bdf93741d1f64c978846da5165ed2a03",
            "7888845a16b34926b39608cbecf16029"
          ]
        },
        "id": "3rBshAhpGjWN",
        "outputId": "5fdb9ba8-7cde-4343-fbb0-22e3f5eb9863"
      },
      "execution_count": null,
      "outputs": [
        {
          "output_type": "display_data",
          "data": {
            "text/plain": [
              "VBox(children=(FloatText(value=0.0, description='worst area:'), FloatText(value=0.0, description='worst concav…"
            ],
            "application/vnd.jupyter.widget-view+json": {
              "version_major": 2,
              "version_minor": 0,
              "model_id": "977c0f65179140b685425fb49b7fe72a"
            }
          },
          "metadata": {}
        },
        {
          "output_type": "stream",
          "name": "stderr",
          "text": [
            "/usr/local/lib/python3.11/dist-packages/sklearn/utils/validation.py:2739: UserWarning: X does not have valid feature names, but StandardScaler was fitted with feature names\n",
            "  warnings.warn(\n"
          ]
        }
      ]
    }
  ],
  "metadata": {
    "colab": {
      "provenance": [],
      "authorship_tag": "ABX9TyM1dC64FjA5gm8/xYT0WU/B",
      "include_colab_link": true
    },
    "kernelspec": {
      "display_name": "Python 3",
      "name": "python3"
    },
    "language_info": {
      "name": "python"
    },
    "widgets": {
      "application/vnd.jupyter.widget-state+json": {
        "977c0f65179140b685425fb49b7fe72a": {
          "model_module": "@jupyter-widgets/controls",
          "model_name": "VBoxModel",
          "model_module_version": "1.5.0",
          "state": {
            "_dom_classes": [],
            "_model_module": "@jupyter-widgets/controls",
            "_model_module_version": "1.5.0",
            "_model_name": "VBoxModel",
            "_view_count": null,
            "_view_module": "@jupyter-widgets/controls",
            "_view_module_version": "1.5.0",
            "_view_name": "VBoxView",
            "box_style": "",
            "children": [
              "IPY_MODEL_5f8cc3cd165e499a9294217228f22e84",
              "IPY_MODEL_44928203f36446c3b6844e9594a61c68",
              "IPY_MODEL_d1aa062939d042e3b6a1bfd60f35811f",
              "IPY_MODEL_976f39bb3a704bba96f45848e2a14a0e",
              "IPY_MODEL_67624db2ab014f5c90a2bbd306043cde",
              "IPY_MODEL_5a49fefa2e5a4502a2caedbce1762fb7"
            ],
            "layout": "IPY_MODEL_0ced15dfc68a4a5dab934eb451cf289b"
          }
        },
        "5f8cc3cd165e499a9294217228f22e84": {
          "model_module": "@jupyter-widgets/controls",
          "model_name": "FloatTextModel",
          "model_module_version": "1.5.0",
          "state": {
            "_dom_classes": [],
            "_model_module": "@jupyter-widgets/controls",
            "_model_module_version": "1.5.0",
            "_model_name": "FloatTextModel",
            "_view_count": null,
            "_view_module": "@jupyter-widgets/controls",
            "_view_module_version": "1.5.0",
            "_view_name": "FloatTextView",
            "continuous_update": false,
            "description": "worst area:",
            "description_tooltip": null,
            "disabled": false,
            "layout": "IPY_MODEL_7a4edae20a314518af4a5002698472fa",
            "step": null,
            "style": "IPY_MODEL_f11dbc02d5024d489aea8160fb7ee717",
            "value": 15
          }
        },
        "44928203f36446c3b6844e9594a61c68": {
          "model_module": "@jupyter-widgets/controls",
          "model_name": "FloatTextModel",
          "model_module_version": "1.5.0",
          "state": {
            "_dom_classes": [],
            "_model_module": "@jupyter-widgets/controls",
            "_model_module_version": "1.5.0",
            "_model_name": "FloatTextModel",
            "_view_count": null,
            "_view_module": "@jupyter-widgets/controls",
            "_view_module_version": "1.5.0",
            "_view_name": "FloatTextView",
            "continuous_update": false,
            "description": "worst concave points:",
            "description_tooltip": null,
            "disabled": false,
            "layout": "IPY_MODEL_7ce26c65a9164e3cbeb779291ff37da0",
            "step": null,
            "style": "IPY_MODEL_fa68c10956a1470fa7469cce8fa85de3",
            "value": 120
          }
        },
        "d1aa062939d042e3b6a1bfd60f35811f": {
          "model_module": "@jupyter-widgets/controls",
          "model_name": "FloatTextModel",
          "model_module_version": "1.5.0",
          "state": {
            "_dom_classes": [],
            "_model_module": "@jupyter-widgets/controls",
            "_model_module_version": "1.5.0",
            "_model_name": "FloatTextModel",
            "_view_count": null,
            "_view_module": "@jupyter-widgets/controls",
            "_view_module_version": "1.5.0",
            "_view_name": "FloatTextView",
            "continuous_update": false,
            "description": "worst perimeter:",
            "description_tooltip": null,
            "disabled": false,
            "layout": "IPY_MODEL_757bdb62c18d44278934d3f71bc32943",
            "step": null,
            "style": "IPY_MODEL_b86291ddc1b042859d14974a9ef2a0d5",
            "value": 0.78
          }
        },
        "976f39bb3a704bba96f45848e2a14a0e": {
          "model_module": "@jupyter-widgets/controls",
          "model_name": "FloatTextModel",
          "model_module_version": "1.5.0",
          "state": {
            "_dom_classes": [],
            "_model_module": "@jupyter-widgets/controls",
            "_model_module_version": "1.5.0",
            "_model_name": "FloatTextModel",
            "_view_count": null,
            "_view_module": "@jupyter-widgets/controls",
            "_view_module_version": "1.5.0",
            "_view_name": "FloatTextView",
            "continuous_update": false,
            "description": "mean concave points:",
            "description_tooltip": null,
            "disabled": false,
            "layout": "IPY_MODEL_0c73239367974fb5945ce95dbd57d3d7",
            "step": null,
            "style": "IPY_MODEL_ecad3ade9f7649d497fe5f8391221543",
            "value": 420
          }
        },
        "67624db2ab014f5c90a2bbd306043cde": {
          "model_module": "@jupyter-widgets/controls",
          "model_name": "ButtonModel",
          "model_module_version": "1.5.0",
          "state": {
            "_dom_classes": [],
            "_model_module": "@jupyter-widgets/controls",
            "_model_module_version": "1.5.0",
            "_model_name": "ButtonModel",
            "_view_count": null,
            "_view_module": "@jupyter-widgets/controls",
            "_view_module_version": "1.5.0",
            "_view_name": "ButtonView",
            "button_style": "",
            "description": "Predict",
            "disabled": false,
            "icon": "",
            "layout": "IPY_MODEL_87e15e7011974d25b781f499cffba9cf",
            "style": "IPY_MODEL_8547a88219a34fcabbf5bed42a82df21",
            "tooltip": ""
          }
        },
        "5a49fefa2e5a4502a2caedbce1762fb7": {
          "model_module": "@jupyter-widgets/controls",
          "model_name": "LabelModel",
          "model_module_version": "1.5.0",
          "state": {
            "_dom_classes": [],
            "_model_module": "@jupyter-widgets/controls",
            "_model_module_version": "1.5.0",
            "_model_name": "LabelModel",
            "_view_count": null,
            "_view_module": "@jupyter-widgets/controls",
            "_view_module_version": "1.5.0",
            "_view_name": "LabelView",
            "description": "",
            "description_tooltip": null,
            "layout": "IPY_MODEL_bdf93741d1f64c978846da5165ed2a03",
            "placeholder": "​",
            "style": "IPY_MODEL_7888845a16b34926b39608cbecf16029",
            "value": "Prediction (Random Forest): Malignant"
          }
        },
        "0ced15dfc68a4a5dab934eb451cf289b": {
          "model_module": "@jupyter-widgets/base",
          "model_name": "LayoutModel",
          "model_module_version": "1.2.0",
          "state": {
            "_model_module": "@jupyter-widgets/base",
            "_model_module_version": "1.2.0",
            "_model_name": "LayoutModel",
            "_view_count": null,
            "_view_module": "@jupyter-widgets/base",
            "_view_module_version": "1.2.0",
            "_view_name": "LayoutView",
            "align_content": null,
            "align_items": null,
            "align_self": null,
            "border": null,
            "bottom": null,
            "display": null,
            "flex": null,
            "flex_flow": null,
            "grid_area": null,
            "grid_auto_columns": null,
            "grid_auto_flow": null,
            "grid_auto_rows": null,
            "grid_column": null,
            "grid_gap": null,
            "grid_row": null,
            "grid_template_areas": null,
            "grid_template_columns": null,
            "grid_template_rows": null,
            "height": null,
            "justify_content": null,
            "justify_items": null,
            "left": null,
            "margin": null,
            "max_height": null,
            "max_width": null,
            "min_height": null,
            "min_width": null,
            "object_fit": null,
            "object_position": null,
            "order": null,
            "overflow": null,
            "overflow_x": null,
            "overflow_y": null,
            "padding": null,
            "right": null,
            "top": null,
            "visibility": null,
            "width": null
          }
        },
        "7a4edae20a314518af4a5002698472fa": {
          "model_module": "@jupyter-widgets/base",
          "model_name": "LayoutModel",
          "model_module_version": "1.2.0",
          "state": {
            "_model_module": "@jupyter-widgets/base",
            "_model_module_version": "1.2.0",
            "_model_name": "LayoutModel",
            "_view_count": null,
            "_view_module": "@jupyter-widgets/base",
            "_view_module_version": "1.2.0",
            "_view_name": "LayoutView",
            "align_content": null,
            "align_items": null,
            "align_self": null,
            "border": null,
            "bottom": null,
            "display": null,
            "flex": null,
            "flex_flow": null,
            "grid_area": null,
            "grid_auto_columns": null,
            "grid_auto_flow": null,
            "grid_auto_rows": null,
            "grid_column": null,
            "grid_gap": null,
            "grid_row": null,
            "grid_template_areas": null,
            "grid_template_columns": null,
            "grid_template_rows": null,
            "height": null,
            "justify_content": null,
            "justify_items": null,
            "left": null,
            "margin": null,
            "max_height": null,
            "max_width": null,
            "min_height": null,
            "min_width": null,
            "object_fit": null,
            "object_position": null,
            "order": null,
            "overflow": null,
            "overflow_x": null,
            "overflow_y": null,
            "padding": null,
            "right": null,
            "top": null,
            "visibility": null,
            "width": null
          }
        },
        "f11dbc02d5024d489aea8160fb7ee717": {
          "model_module": "@jupyter-widgets/controls",
          "model_name": "DescriptionStyleModel",
          "model_module_version": "1.5.0",
          "state": {
            "_model_module": "@jupyter-widgets/controls",
            "_model_module_version": "1.5.0",
            "_model_name": "DescriptionStyleModel",
            "_view_count": null,
            "_view_module": "@jupyter-widgets/base",
            "_view_module_version": "1.2.0",
            "_view_name": "StyleView",
            "description_width": ""
          }
        },
        "7ce26c65a9164e3cbeb779291ff37da0": {
          "model_module": "@jupyter-widgets/base",
          "model_name": "LayoutModel",
          "model_module_version": "1.2.0",
          "state": {
            "_model_module": "@jupyter-widgets/base",
            "_model_module_version": "1.2.0",
            "_model_name": "LayoutModel",
            "_view_count": null,
            "_view_module": "@jupyter-widgets/base",
            "_view_module_version": "1.2.0",
            "_view_name": "LayoutView",
            "align_content": null,
            "align_items": null,
            "align_self": null,
            "border": null,
            "bottom": null,
            "display": null,
            "flex": null,
            "flex_flow": null,
            "grid_area": null,
            "grid_auto_columns": null,
            "grid_auto_flow": null,
            "grid_auto_rows": null,
            "grid_column": null,
            "grid_gap": null,
            "grid_row": null,
            "grid_template_areas": null,
            "grid_template_columns": null,
            "grid_template_rows": null,
            "height": null,
            "justify_content": null,
            "justify_items": null,
            "left": null,
            "margin": null,
            "max_height": null,
            "max_width": null,
            "min_height": null,
            "min_width": null,
            "object_fit": null,
            "object_position": null,
            "order": null,
            "overflow": null,
            "overflow_x": null,
            "overflow_y": null,
            "padding": null,
            "right": null,
            "top": null,
            "visibility": null,
            "width": null
          }
        },
        "fa68c10956a1470fa7469cce8fa85de3": {
          "model_module": "@jupyter-widgets/controls",
          "model_name": "DescriptionStyleModel",
          "model_module_version": "1.5.0",
          "state": {
            "_model_module": "@jupyter-widgets/controls",
            "_model_module_version": "1.5.0",
            "_model_name": "DescriptionStyleModel",
            "_view_count": null,
            "_view_module": "@jupyter-widgets/base",
            "_view_module_version": "1.2.0",
            "_view_name": "StyleView",
            "description_width": ""
          }
        },
        "757bdb62c18d44278934d3f71bc32943": {
          "model_module": "@jupyter-widgets/base",
          "model_name": "LayoutModel",
          "model_module_version": "1.2.0",
          "state": {
            "_model_module": "@jupyter-widgets/base",
            "_model_module_version": "1.2.0",
            "_model_name": "LayoutModel",
            "_view_count": null,
            "_view_module": "@jupyter-widgets/base",
            "_view_module_version": "1.2.0",
            "_view_name": "LayoutView",
            "align_content": null,
            "align_items": null,
            "align_self": null,
            "border": null,
            "bottom": null,
            "display": null,
            "flex": null,
            "flex_flow": null,
            "grid_area": null,
            "grid_auto_columns": null,
            "grid_auto_flow": null,
            "grid_auto_rows": null,
            "grid_column": null,
            "grid_gap": null,
            "grid_row": null,
            "grid_template_areas": null,
            "grid_template_columns": null,
            "grid_template_rows": null,
            "height": null,
            "justify_content": null,
            "justify_items": null,
            "left": null,
            "margin": null,
            "max_height": null,
            "max_width": null,
            "min_height": null,
            "min_width": null,
            "object_fit": null,
            "object_position": null,
            "order": null,
            "overflow": null,
            "overflow_x": null,
            "overflow_y": null,
            "padding": null,
            "right": null,
            "top": null,
            "visibility": null,
            "width": null
          }
        },
        "b86291ddc1b042859d14974a9ef2a0d5": {
          "model_module": "@jupyter-widgets/controls",
          "model_name": "DescriptionStyleModel",
          "model_module_version": "1.5.0",
          "state": {
            "_model_module": "@jupyter-widgets/controls",
            "_model_module_version": "1.5.0",
            "_model_name": "DescriptionStyleModel",
            "_view_count": null,
            "_view_module": "@jupyter-widgets/base",
            "_view_module_version": "1.2.0",
            "_view_name": "StyleView",
            "description_width": ""
          }
        },
        "0c73239367974fb5945ce95dbd57d3d7": {
          "model_module": "@jupyter-widgets/base",
          "model_name": "LayoutModel",
          "model_module_version": "1.2.0",
          "state": {
            "_model_module": "@jupyter-widgets/base",
            "_model_module_version": "1.2.0",
            "_model_name": "LayoutModel",
            "_view_count": null,
            "_view_module": "@jupyter-widgets/base",
            "_view_module_version": "1.2.0",
            "_view_name": "LayoutView",
            "align_content": null,
            "align_items": null,
            "align_self": null,
            "border": null,
            "bottom": null,
            "display": null,
            "flex": null,
            "flex_flow": null,
            "grid_area": null,
            "grid_auto_columns": null,
            "grid_auto_flow": null,
            "grid_auto_rows": null,
            "grid_column": null,
            "grid_gap": null,
            "grid_row": null,
            "grid_template_areas": null,
            "grid_template_columns": null,
            "grid_template_rows": null,
            "height": null,
            "justify_content": null,
            "justify_items": null,
            "left": null,
            "margin": null,
            "max_height": null,
            "max_width": null,
            "min_height": null,
            "min_width": null,
            "object_fit": null,
            "object_position": null,
            "order": null,
            "overflow": null,
            "overflow_x": null,
            "overflow_y": null,
            "padding": null,
            "right": null,
            "top": null,
            "visibility": null,
            "width": null
          }
        },
        "ecad3ade9f7649d497fe5f8391221543": {
          "model_module": "@jupyter-widgets/controls",
          "model_name": "DescriptionStyleModel",
          "model_module_version": "1.5.0",
          "state": {
            "_model_module": "@jupyter-widgets/controls",
            "_model_module_version": "1.5.0",
            "_model_name": "DescriptionStyleModel",
            "_view_count": null,
            "_view_module": "@jupyter-widgets/base",
            "_view_module_version": "1.2.0",
            "_view_name": "StyleView",
            "description_width": ""
          }
        },
        "87e15e7011974d25b781f499cffba9cf": {
          "model_module": "@jupyter-widgets/base",
          "model_name": "LayoutModel",
          "model_module_version": "1.2.0",
          "state": {
            "_model_module": "@jupyter-widgets/base",
            "_model_module_version": "1.2.0",
            "_model_name": "LayoutModel",
            "_view_count": null,
            "_view_module": "@jupyter-widgets/base",
            "_view_module_version": "1.2.0",
            "_view_name": "LayoutView",
            "align_content": null,
            "align_items": null,
            "align_self": null,
            "border": null,
            "bottom": null,
            "display": null,
            "flex": null,
            "flex_flow": null,
            "grid_area": null,
            "grid_auto_columns": null,
            "grid_auto_flow": null,
            "grid_auto_rows": null,
            "grid_column": null,
            "grid_gap": null,
            "grid_row": null,
            "grid_template_areas": null,
            "grid_template_columns": null,
            "grid_template_rows": null,
            "height": null,
            "justify_content": null,
            "justify_items": null,
            "left": null,
            "margin": null,
            "max_height": null,
            "max_width": null,
            "min_height": null,
            "min_width": null,
            "object_fit": null,
            "object_position": null,
            "order": null,
            "overflow": null,
            "overflow_x": null,
            "overflow_y": null,
            "padding": null,
            "right": null,
            "top": null,
            "visibility": null,
            "width": null
          }
        },
        "8547a88219a34fcabbf5bed42a82df21": {
          "model_module": "@jupyter-widgets/controls",
          "model_name": "ButtonStyleModel",
          "model_module_version": "1.5.0",
          "state": {
            "_model_module": "@jupyter-widgets/controls",
            "_model_module_version": "1.5.0",
            "_model_name": "ButtonStyleModel",
            "_view_count": null,
            "_view_module": "@jupyter-widgets/base",
            "_view_module_version": "1.2.0",
            "_view_name": "StyleView",
            "button_color": null,
            "font_weight": ""
          }
        },
        "bdf93741d1f64c978846da5165ed2a03": {
          "model_module": "@jupyter-widgets/base",
          "model_name": "LayoutModel",
          "model_module_version": "1.2.0",
          "state": {
            "_model_module": "@jupyter-widgets/base",
            "_model_module_version": "1.2.0",
            "_model_name": "LayoutModel",
            "_view_count": null,
            "_view_module": "@jupyter-widgets/base",
            "_view_module_version": "1.2.0",
            "_view_name": "LayoutView",
            "align_content": null,
            "align_items": null,
            "align_self": null,
            "border": null,
            "bottom": null,
            "display": null,
            "flex": null,
            "flex_flow": null,
            "grid_area": null,
            "grid_auto_columns": null,
            "grid_auto_flow": null,
            "grid_auto_rows": null,
            "grid_column": null,
            "grid_gap": null,
            "grid_row": null,
            "grid_template_areas": null,
            "grid_template_columns": null,
            "grid_template_rows": null,
            "height": null,
            "justify_content": null,
            "justify_items": null,
            "left": null,
            "margin": null,
            "max_height": null,
            "max_width": null,
            "min_height": null,
            "min_width": null,
            "object_fit": null,
            "object_position": null,
            "order": null,
            "overflow": null,
            "overflow_x": null,
            "overflow_y": null,
            "padding": null,
            "right": null,
            "top": null,
            "visibility": null,
            "width": null
          }
        },
        "7888845a16b34926b39608cbecf16029": {
          "model_module": "@jupyter-widgets/controls",
          "model_name": "DescriptionStyleModel",
          "model_module_version": "1.5.0",
          "state": {
            "_model_module": "@jupyter-widgets/controls",
            "_model_module_version": "1.5.0",
            "_model_name": "DescriptionStyleModel",
            "_view_count": null,
            "_view_module": "@jupyter-widgets/base",
            "_view_module_version": "1.2.0",
            "_view_name": "StyleView",
            "description_width": ""
          }
        }
      }
    }
  },
  "nbformat": 4,
  "nbformat_minor": 0
}